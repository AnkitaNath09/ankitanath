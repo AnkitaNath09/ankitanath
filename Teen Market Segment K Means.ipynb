{
 "cells": [
  {
   "cell_type": "markdown",
   "metadata": {},
   "source": [
    "# Teen Market Segmentation Using K-means Clustering"
   ]
  },
  {
   "cell_type": "raw",
   "metadata": {},
   "source": [
    "We apply One-Hot Encoding when:\n",
    "\n",
    "The categorical feature is not ordinal (like the countries above)\n",
    "The number of categorical features is less so one-hot encoding can be effectively applied\n",
    "\n",
    "We apply Label Encoding when:\n",
    "\n",
    "The categorical feature is ordinal (like Jr. kg, Sr. kg, Primary school, high school)\n",
    " The number of categories is quite large as one-hot encoding can lead to high memory consumption"
   ]
  },
  {
   "cell_type": "raw",
   "metadata": {},
   "source": [
    "Interacting with friends on a social networking service (SNS) has become a rite of passage for teenagers around the world. The many millions of teenage consumers using such sites have attracted the attention of marketers struggling to find an edge in an increasingly competitive market. One way to gain this edge is to identify segments of teenagers who share similar tastes, so that clients can avoid targeting advertisements to teens with no interest in the product being sold. For instance, sporting apparel is likely to be a difficult sell to teens with no interest in sports.\n",
    "\n",
    "These same terms apply in the same way to the four years of a standard high school: \n",
    "9th grade is freshman year,\n",
    "10th grade sophomore year,\n",
    "11th grade junior year,\n",
    "and 12th grade senior year."
   ]
  },
  {
   "cell_type": "markdown",
   "metadata": {},
   "source": [
    "## Dataset Information"
   ]
  },
  {
   "cell_type": "markdown",
   "metadata": {},
   "source": [
    "The dataset represents a random sample of 30,000 U.S. high school students who had profiles on a well-known SNS in 2006. To protect the users’ anonymity, the SNS will remain unnamed. The data was sampled evenly across four high school graduation years (2006 through 2009) representing the senior, junior, sophomore, and freshman classes at the time of data collection\n",
    "The dataset contatins 40 variables like: gender, age, friends, basketball, football, soccer, softball, volleyball,swimming, cute, sexy, kissed, sports, rock, god, church, bible, hair, mall, clothes, hollister, drugs etc whcih shows their interests. The final dataset indicates, for each person, how many times each word appeared in the person’s SNS profile"
   ]
  },
  {
   "cell_type": "markdown",
   "metadata": {},
   "source": [
    "## Load Libraries"
   ]
  },
  {
   "cell_type": "code",
   "execution_count": 1,
   "metadata": {},
   "outputs": [],
   "source": [
    "import os as os"
   ]
  },
  {
   "cell_type": "code",
   "execution_count": 3,
   "metadata": {},
   "outputs": [],
   "source": [
    "os.chdir(\"C:\\\\Users\\\\Ankita\\\\OneDrive\\\\Desktop\\\\Training 1\\\\Unsupervised Learning with K-Means Project\")"
   ]
  },
  {
   "cell_type": "code",
   "execution_count": 4,
   "metadata": {},
   "outputs": [],
   "source": [
    "#set the seed\n",
    "import random\n",
    "\n",
    "random.seed(1)"
   ]
  },
  {
   "cell_type": "code",
   "execution_count": 5,
   "metadata": {},
   "outputs": [],
   "source": [
    "# Importing Packages\n",
    "import pandas as pd\n",
    "import numpy as np\n",
    "import matplotlib.pyplot as plt\n",
    "%matplotlib inline\n",
    "import seaborn as sns\n",
    "import warnings\n",
    "warnings.filterwarnings(\"ignore\")"
   ]
  },
  {
   "cell_type": "markdown",
   "metadata": {},
   "source": [
    "# Load Data"
   ]
  },
  {
   "cell_type": "code",
   "execution_count": 6,
   "metadata": {},
   "outputs": [
    {
     "data": {
      "text/html": [
       "<div>\n",
       "<style scoped>\n",
       "    .dataframe tbody tr th:only-of-type {\n",
       "        vertical-align: middle;\n",
       "    }\n",
       "\n",
       "    .dataframe tbody tr th {\n",
       "        vertical-align: top;\n",
       "    }\n",
       "\n",
       "    .dataframe thead th {\n",
       "        text-align: right;\n",
       "    }\n",
       "</style>\n",
       "<table border=\"1\" class=\"dataframe\">\n",
       "  <thead>\n",
       "    <tr style=\"text-align: right;\">\n",
       "      <th></th>\n",
       "      <th>gradyear</th>\n",
       "      <th>gender</th>\n",
       "      <th>age</th>\n",
       "      <th>friends</th>\n",
       "      <th>basketball</th>\n",
       "      <th>football</th>\n",
       "      <th>soccer</th>\n",
       "      <th>softball</th>\n",
       "      <th>volleyball</th>\n",
       "      <th>swimming</th>\n",
       "      <th>...</th>\n",
       "      <th>blonde</th>\n",
       "      <th>mall</th>\n",
       "      <th>shopping</th>\n",
       "      <th>clothes</th>\n",
       "      <th>hollister</th>\n",
       "      <th>abercrombie</th>\n",
       "      <th>die</th>\n",
       "      <th>death</th>\n",
       "      <th>drunk</th>\n",
       "      <th>drugs</th>\n",
       "    </tr>\n",
       "  </thead>\n",
       "  <tbody>\n",
       "    <tr>\n",
       "      <th>0</th>\n",
       "      <td>2006</td>\n",
       "      <td>M</td>\n",
       "      <td>18.982</td>\n",
       "      <td>7</td>\n",
       "      <td>0</td>\n",
       "      <td>0</td>\n",
       "      <td>0</td>\n",
       "      <td>0</td>\n",
       "      <td>0</td>\n",
       "      <td>0</td>\n",
       "      <td>...</td>\n",
       "      <td>0</td>\n",
       "      <td>0</td>\n",
       "      <td>0</td>\n",
       "      <td>0</td>\n",
       "      <td>0</td>\n",
       "      <td>0</td>\n",
       "      <td>0</td>\n",
       "      <td>0</td>\n",
       "      <td>0</td>\n",
       "      <td>0</td>\n",
       "    </tr>\n",
       "    <tr>\n",
       "      <th>1</th>\n",
       "      <td>2006</td>\n",
       "      <td>F</td>\n",
       "      <td>18.801</td>\n",
       "      <td>0</td>\n",
       "      <td>0</td>\n",
       "      <td>1</td>\n",
       "      <td>0</td>\n",
       "      <td>0</td>\n",
       "      <td>0</td>\n",
       "      <td>0</td>\n",
       "      <td>...</td>\n",
       "      <td>0</td>\n",
       "      <td>1</td>\n",
       "      <td>0</td>\n",
       "      <td>0</td>\n",
       "      <td>0</td>\n",
       "      <td>0</td>\n",
       "      <td>0</td>\n",
       "      <td>0</td>\n",
       "      <td>0</td>\n",
       "      <td>0</td>\n",
       "    </tr>\n",
       "    <tr>\n",
       "      <th>2</th>\n",
       "      <td>2006</td>\n",
       "      <td>M</td>\n",
       "      <td>18.335</td>\n",
       "      <td>69</td>\n",
       "      <td>0</td>\n",
       "      <td>1</td>\n",
       "      <td>0</td>\n",
       "      <td>0</td>\n",
       "      <td>0</td>\n",
       "      <td>0</td>\n",
       "      <td>...</td>\n",
       "      <td>0</td>\n",
       "      <td>0</td>\n",
       "      <td>0</td>\n",
       "      <td>0</td>\n",
       "      <td>0</td>\n",
       "      <td>0</td>\n",
       "      <td>0</td>\n",
       "      <td>1</td>\n",
       "      <td>0</td>\n",
       "      <td>0</td>\n",
       "    </tr>\n",
       "    <tr>\n",
       "      <th>3</th>\n",
       "      <td>2006</td>\n",
       "      <td>F</td>\n",
       "      <td>18.875</td>\n",
       "      <td>0</td>\n",
       "      <td>0</td>\n",
       "      <td>0</td>\n",
       "      <td>0</td>\n",
       "      <td>0</td>\n",
       "      <td>0</td>\n",
       "      <td>0</td>\n",
       "      <td>...</td>\n",
       "      <td>0</td>\n",
       "      <td>0</td>\n",
       "      <td>0</td>\n",
       "      <td>0</td>\n",
       "      <td>0</td>\n",
       "      <td>0</td>\n",
       "      <td>0</td>\n",
       "      <td>0</td>\n",
       "      <td>0</td>\n",
       "      <td>0</td>\n",
       "    </tr>\n",
       "    <tr>\n",
       "      <th>4</th>\n",
       "      <td>2006</td>\n",
       "      <td>NaN</td>\n",
       "      <td>18.995</td>\n",
       "      <td>10</td>\n",
       "      <td>0</td>\n",
       "      <td>0</td>\n",
       "      <td>0</td>\n",
       "      <td>0</td>\n",
       "      <td>0</td>\n",
       "      <td>0</td>\n",
       "      <td>...</td>\n",
       "      <td>0</td>\n",
       "      <td>0</td>\n",
       "      <td>2</td>\n",
       "      <td>0</td>\n",
       "      <td>0</td>\n",
       "      <td>0</td>\n",
       "      <td>0</td>\n",
       "      <td>0</td>\n",
       "      <td>1</td>\n",
       "      <td>1</td>\n",
       "    </tr>\n",
       "  </tbody>\n",
       "</table>\n",
       "<p>5 rows × 40 columns</p>\n",
       "</div>"
      ],
      "text/plain": [
       "   gradyear gender     age  friends  basketball  football  soccer  softball  \\\n",
       "0      2006      M  18.982        7           0         0       0         0   \n",
       "1      2006      F  18.801        0           0         1       0         0   \n",
       "2      2006      M  18.335       69           0         1       0         0   \n",
       "3      2006      F  18.875        0           0         0       0         0   \n",
       "4      2006    NaN  18.995       10           0         0       0         0   \n",
       "\n",
       "   volleyball  swimming  ...  blonde  mall  shopping  clothes  hollister  \\\n",
       "0           0         0  ...       0     0         0        0          0   \n",
       "1           0         0  ...       0     1         0        0          0   \n",
       "2           0         0  ...       0     0         0        0          0   \n",
       "3           0         0  ...       0     0         0        0          0   \n",
       "4           0         0  ...       0     0         2        0          0   \n",
       "\n",
       "   abercrombie  die  death  drunk  drugs  \n",
       "0            0    0      0      0      0  \n",
       "1            0    0      0      0      0  \n",
       "2            0    0      1      0      0  \n",
       "3            0    0      0      0      0  \n",
       "4            0    0      0      1      1  \n",
       "\n",
       "[5 rows x 40 columns]"
      ]
     },
     "execution_count": 6,
     "metadata": {},
     "output_type": "execute_result"
    }
   ],
   "source": [
    "#pd.set_option('display.max_columns',None)\n",
    "#pd.set_option('display.max_rows',None)\n",
    "data = pd.read_csv(\"snsdata.csv\")\n",
    "data.head()\n"
   ]
  },
  {
   "cell_type": "code",
   "execution_count": 7,
   "metadata": {},
   "outputs": [
    {
     "data": {
      "text/plain": [
       "(30000, 40)"
      ]
     },
     "execution_count": 7,
     "metadata": {},
     "output_type": "execute_result"
    }
   ],
   "source": [
    "#Dimension of the dataset\n",
    "data.shape"
   ]
  },
  {
   "cell_type": "markdown",
   "metadata": {},
   "source": [
    "## Summary Statistics"
   ]
  },
  {
   "cell_type": "markdown",
   "metadata": {},
   "source": [
    "### Summary Statistics of Numerical Variables"
   ]
  },
  {
   "cell_type": "code",
   "execution_count": 8,
   "metadata": {
    "scrolled": true
   },
   "outputs": [
    {
     "data": {
      "text/html": [
       "<div>\n",
       "<style scoped>\n",
       "    .dataframe tbody tr th:only-of-type {\n",
       "        vertical-align: middle;\n",
       "    }\n",
       "\n",
       "    .dataframe tbody tr th {\n",
       "        vertical-align: top;\n",
       "    }\n",
       "\n",
       "    .dataframe thead th {\n",
       "        text-align: right;\n",
       "    }\n",
       "</style>\n",
       "<table border=\"1\" class=\"dataframe\">\n",
       "  <thead>\n",
       "    <tr style=\"text-align: right;\">\n",
       "      <th></th>\n",
       "      <th>gradyear</th>\n",
       "      <th>gender</th>\n",
       "      <th>age</th>\n",
       "      <th>friends</th>\n",
       "      <th>basketball</th>\n",
       "      <th>football</th>\n",
       "      <th>soccer</th>\n",
       "      <th>softball</th>\n",
       "      <th>volleyball</th>\n",
       "      <th>swimming</th>\n",
       "      <th>...</th>\n",
       "      <th>blonde</th>\n",
       "      <th>mall</th>\n",
       "      <th>shopping</th>\n",
       "      <th>clothes</th>\n",
       "      <th>hollister</th>\n",
       "      <th>abercrombie</th>\n",
       "      <th>die</th>\n",
       "      <th>death</th>\n",
       "      <th>drunk</th>\n",
       "      <th>drugs</th>\n",
       "    </tr>\n",
       "  </thead>\n",
       "  <tbody>\n",
       "    <tr>\n",
       "      <th>count</th>\n",
       "      <td>30000.000000</td>\n",
       "      <td>27276</td>\n",
       "      <td>24914.000000</td>\n",
       "      <td>30000.000000</td>\n",
       "      <td>30000.000000</td>\n",
       "      <td>30000.000000</td>\n",
       "      <td>30000.000000</td>\n",
       "      <td>30000.000000</td>\n",
       "      <td>30000.000000</td>\n",
       "      <td>30000.00000</td>\n",
       "      <td>...</td>\n",
       "      <td>30000.000000</td>\n",
       "      <td>30000.000000</td>\n",
       "      <td>30000.000000</td>\n",
       "      <td>30000.00000</td>\n",
       "      <td>30000.000000</td>\n",
       "      <td>30000.000000</td>\n",
       "      <td>30000.000000</td>\n",
       "      <td>30000.000000</td>\n",
       "      <td>30000.000000</td>\n",
       "      <td>30000.000000</td>\n",
       "    </tr>\n",
       "    <tr>\n",
       "      <th>unique</th>\n",
       "      <td>NaN</td>\n",
       "      <td>2</td>\n",
       "      <td>NaN</td>\n",
       "      <td>NaN</td>\n",
       "      <td>NaN</td>\n",
       "      <td>NaN</td>\n",
       "      <td>NaN</td>\n",
       "      <td>NaN</td>\n",
       "      <td>NaN</td>\n",
       "      <td>NaN</td>\n",
       "      <td>...</td>\n",
       "      <td>NaN</td>\n",
       "      <td>NaN</td>\n",
       "      <td>NaN</td>\n",
       "      <td>NaN</td>\n",
       "      <td>NaN</td>\n",
       "      <td>NaN</td>\n",
       "      <td>NaN</td>\n",
       "      <td>NaN</td>\n",
       "      <td>NaN</td>\n",
       "      <td>NaN</td>\n",
       "    </tr>\n",
       "    <tr>\n",
       "      <th>top</th>\n",
       "      <td>NaN</td>\n",
       "      <td>F</td>\n",
       "      <td>NaN</td>\n",
       "      <td>NaN</td>\n",
       "      <td>NaN</td>\n",
       "      <td>NaN</td>\n",
       "      <td>NaN</td>\n",
       "      <td>NaN</td>\n",
       "      <td>NaN</td>\n",
       "      <td>NaN</td>\n",
       "      <td>...</td>\n",
       "      <td>NaN</td>\n",
       "      <td>NaN</td>\n",
       "      <td>NaN</td>\n",
       "      <td>NaN</td>\n",
       "      <td>NaN</td>\n",
       "      <td>NaN</td>\n",
       "      <td>NaN</td>\n",
       "      <td>NaN</td>\n",
       "      <td>NaN</td>\n",
       "      <td>NaN</td>\n",
       "    </tr>\n",
       "    <tr>\n",
       "      <th>freq</th>\n",
       "      <td>NaN</td>\n",
       "      <td>22054</td>\n",
       "      <td>NaN</td>\n",
       "      <td>NaN</td>\n",
       "      <td>NaN</td>\n",
       "      <td>NaN</td>\n",
       "      <td>NaN</td>\n",
       "      <td>NaN</td>\n",
       "      <td>NaN</td>\n",
       "      <td>NaN</td>\n",
       "      <td>...</td>\n",
       "      <td>NaN</td>\n",
       "      <td>NaN</td>\n",
       "      <td>NaN</td>\n",
       "      <td>NaN</td>\n",
       "      <td>NaN</td>\n",
       "      <td>NaN</td>\n",
       "      <td>NaN</td>\n",
       "      <td>NaN</td>\n",
       "      <td>NaN</td>\n",
       "      <td>NaN</td>\n",
       "    </tr>\n",
       "    <tr>\n",
       "      <th>mean</th>\n",
       "      <td>2007.500000</td>\n",
       "      <td>NaN</td>\n",
       "      <td>17.993950</td>\n",
       "      <td>30.179467</td>\n",
       "      <td>0.267333</td>\n",
       "      <td>0.252300</td>\n",
       "      <td>0.222767</td>\n",
       "      <td>0.161200</td>\n",
       "      <td>0.143133</td>\n",
       "      <td>0.13440</td>\n",
       "      <td>...</td>\n",
       "      <td>0.098933</td>\n",
       "      <td>0.257367</td>\n",
       "      <td>0.353000</td>\n",
       "      <td>0.14850</td>\n",
       "      <td>0.069867</td>\n",
       "      <td>0.051167</td>\n",
       "      <td>0.184100</td>\n",
       "      <td>0.114233</td>\n",
       "      <td>0.087967</td>\n",
       "      <td>0.060433</td>\n",
       "    </tr>\n",
       "    <tr>\n",
       "      <th>std</th>\n",
       "      <td>1.118053</td>\n",
       "      <td>NaN</td>\n",
       "      <td>7.858054</td>\n",
       "      <td>36.530877</td>\n",
       "      <td>0.804708</td>\n",
       "      <td>0.705357</td>\n",
       "      <td>0.917226</td>\n",
       "      <td>0.739707</td>\n",
       "      <td>0.639943</td>\n",
       "      <td>0.51699</td>\n",
       "      <td>...</td>\n",
       "      <td>1.942319</td>\n",
       "      <td>0.695758</td>\n",
       "      <td>0.724391</td>\n",
       "      <td>0.47264</td>\n",
       "      <td>0.346779</td>\n",
       "      <td>0.279555</td>\n",
       "      <td>0.624516</td>\n",
       "      <td>0.436796</td>\n",
       "      <td>0.399125</td>\n",
       "      <td>0.345522</td>\n",
       "    </tr>\n",
       "    <tr>\n",
       "      <th>min</th>\n",
       "      <td>2006.000000</td>\n",
       "      <td>NaN</td>\n",
       "      <td>3.086000</td>\n",
       "      <td>0.000000</td>\n",
       "      <td>0.000000</td>\n",
       "      <td>0.000000</td>\n",
       "      <td>0.000000</td>\n",
       "      <td>0.000000</td>\n",
       "      <td>0.000000</td>\n",
       "      <td>0.00000</td>\n",
       "      <td>...</td>\n",
       "      <td>0.000000</td>\n",
       "      <td>0.000000</td>\n",
       "      <td>0.000000</td>\n",
       "      <td>0.00000</td>\n",
       "      <td>0.000000</td>\n",
       "      <td>0.000000</td>\n",
       "      <td>0.000000</td>\n",
       "      <td>0.000000</td>\n",
       "      <td>0.000000</td>\n",
       "      <td>0.000000</td>\n",
       "    </tr>\n",
       "    <tr>\n",
       "      <th>25%</th>\n",
       "      <td>2006.750000</td>\n",
       "      <td>NaN</td>\n",
       "      <td>16.312000</td>\n",
       "      <td>3.000000</td>\n",
       "      <td>0.000000</td>\n",
       "      <td>0.000000</td>\n",
       "      <td>0.000000</td>\n",
       "      <td>0.000000</td>\n",
       "      <td>0.000000</td>\n",
       "      <td>0.00000</td>\n",
       "      <td>...</td>\n",
       "      <td>0.000000</td>\n",
       "      <td>0.000000</td>\n",
       "      <td>0.000000</td>\n",
       "      <td>0.00000</td>\n",
       "      <td>0.000000</td>\n",
       "      <td>0.000000</td>\n",
       "      <td>0.000000</td>\n",
       "      <td>0.000000</td>\n",
       "      <td>0.000000</td>\n",
       "      <td>0.000000</td>\n",
       "    </tr>\n",
       "    <tr>\n",
       "      <th>50%</th>\n",
       "      <td>2007.500000</td>\n",
       "      <td>NaN</td>\n",
       "      <td>17.287000</td>\n",
       "      <td>20.000000</td>\n",
       "      <td>0.000000</td>\n",
       "      <td>0.000000</td>\n",
       "      <td>0.000000</td>\n",
       "      <td>0.000000</td>\n",
       "      <td>0.000000</td>\n",
       "      <td>0.00000</td>\n",
       "      <td>...</td>\n",
       "      <td>0.000000</td>\n",
       "      <td>0.000000</td>\n",
       "      <td>0.000000</td>\n",
       "      <td>0.00000</td>\n",
       "      <td>0.000000</td>\n",
       "      <td>0.000000</td>\n",
       "      <td>0.000000</td>\n",
       "      <td>0.000000</td>\n",
       "      <td>0.000000</td>\n",
       "      <td>0.000000</td>\n",
       "    </tr>\n",
       "    <tr>\n",
       "      <th>75%</th>\n",
       "      <td>2008.250000</td>\n",
       "      <td>NaN</td>\n",
       "      <td>18.259000</td>\n",
       "      <td>44.000000</td>\n",
       "      <td>0.000000</td>\n",
       "      <td>0.000000</td>\n",
       "      <td>0.000000</td>\n",
       "      <td>0.000000</td>\n",
       "      <td>0.000000</td>\n",
       "      <td>0.00000</td>\n",
       "      <td>...</td>\n",
       "      <td>0.000000</td>\n",
       "      <td>0.000000</td>\n",
       "      <td>1.000000</td>\n",
       "      <td>0.00000</td>\n",
       "      <td>0.000000</td>\n",
       "      <td>0.000000</td>\n",
       "      <td>0.000000</td>\n",
       "      <td>0.000000</td>\n",
       "      <td>0.000000</td>\n",
       "      <td>0.000000</td>\n",
       "    </tr>\n",
       "    <tr>\n",
       "      <th>max</th>\n",
       "      <td>2009.000000</td>\n",
       "      <td>NaN</td>\n",
       "      <td>106.927000</td>\n",
       "      <td>830.000000</td>\n",
       "      <td>24.000000</td>\n",
       "      <td>15.000000</td>\n",
       "      <td>27.000000</td>\n",
       "      <td>17.000000</td>\n",
       "      <td>14.000000</td>\n",
       "      <td>31.00000</td>\n",
       "      <td>...</td>\n",
       "      <td>327.000000</td>\n",
       "      <td>12.000000</td>\n",
       "      <td>11.000000</td>\n",
       "      <td>8.00000</td>\n",
       "      <td>9.000000</td>\n",
       "      <td>8.000000</td>\n",
       "      <td>22.000000</td>\n",
       "      <td>14.000000</td>\n",
       "      <td>8.000000</td>\n",
       "      <td>16.000000</td>\n",
       "    </tr>\n",
       "  </tbody>\n",
       "</table>\n",
       "<p>11 rows × 40 columns</p>\n",
       "</div>"
      ],
      "text/plain": [
       "            gradyear gender           age       friends    basketball  \\\n",
       "count   30000.000000  27276  24914.000000  30000.000000  30000.000000   \n",
       "unique           NaN      2           NaN           NaN           NaN   \n",
       "top              NaN      F           NaN           NaN           NaN   \n",
       "freq             NaN  22054           NaN           NaN           NaN   \n",
       "mean     2007.500000    NaN     17.993950     30.179467      0.267333   \n",
       "std         1.118053    NaN      7.858054     36.530877      0.804708   \n",
       "min      2006.000000    NaN      3.086000      0.000000      0.000000   \n",
       "25%      2006.750000    NaN     16.312000      3.000000      0.000000   \n",
       "50%      2007.500000    NaN     17.287000     20.000000      0.000000   \n",
       "75%      2008.250000    NaN     18.259000     44.000000      0.000000   \n",
       "max      2009.000000    NaN    106.927000    830.000000     24.000000   \n",
       "\n",
       "            football        soccer      softball    volleyball     swimming  \\\n",
       "count   30000.000000  30000.000000  30000.000000  30000.000000  30000.00000   \n",
       "unique           NaN           NaN           NaN           NaN          NaN   \n",
       "top              NaN           NaN           NaN           NaN          NaN   \n",
       "freq             NaN           NaN           NaN           NaN          NaN   \n",
       "mean        0.252300      0.222767      0.161200      0.143133      0.13440   \n",
       "std         0.705357      0.917226      0.739707      0.639943      0.51699   \n",
       "min         0.000000      0.000000      0.000000      0.000000      0.00000   \n",
       "25%         0.000000      0.000000      0.000000      0.000000      0.00000   \n",
       "50%         0.000000      0.000000      0.000000      0.000000      0.00000   \n",
       "75%         0.000000      0.000000      0.000000      0.000000      0.00000   \n",
       "max        15.000000     27.000000     17.000000     14.000000     31.00000   \n",
       "\n",
       "        ...        blonde          mall      shopping      clothes  \\\n",
       "count   ...  30000.000000  30000.000000  30000.000000  30000.00000   \n",
       "unique  ...           NaN           NaN           NaN          NaN   \n",
       "top     ...           NaN           NaN           NaN          NaN   \n",
       "freq    ...           NaN           NaN           NaN          NaN   \n",
       "mean    ...      0.098933      0.257367      0.353000      0.14850   \n",
       "std     ...      1.942319      0.695758      0.724391      0.47264   \n",
       "min     ...      0.000000      0.000000      0.000000      0.00000   \n",
       "25%     ...      0.000000      0.000000      0.000000      0.00000   \n",
       "50%     ...      0.000000      0.000000      0.000000      0.00000   \n",
       "75%     ...      0.000000      0.000000      1.000000      0.00000   \n",
       "max     ...    327.000000     12.000000     11.000000      8.00000   \n",
       "\n",
       "           hollister   abercrombie           die         death         drunk  \\\n",
       "count   30000.000000  30000.000000  30000.000000  30000.000000  30000.000000   \n",
       "unique           NaN           NaN           NaN           NaN           NaN   \n",
       "top              NaN           NaN           NaN           NaN           NaN   \n",
       "freq             NaN           NaN           NaN           NaN           NaN   \n",
       "mean        0.069867      0.051167      0.184100      0.114233      0.087967   \n",
       "std         0.346779      0.279555      0.624516      0.436796      0.399125   \n",
       "min         0.000000      0.000000      0.000000      0.000000      0.000000   \n",
       "25%         0.000000      0.000000      0.000000      0.000000      0.000000   \n",
       "50%         0.000000      0.000000      0.000000      0.000000      0.000000   \n",
       "75%         0.000000      0.000000      0.000000      0.000000      0.000000   \n",
       "max         9.000000      8.000000     22.000000     14.000000      8.000000   \n",
       "\n",
       "               drugs  \n",
       "count   30000.000000  \n",
       "unique           NaN  \n",
       "top              NaN  \n",
       "freq             NaN  \n",
       "mean        0.060433  \n",
       "std         0.345522  \n",
       "min         0.000000  \n",
       "25%         0.000000  \n",
       "50%         0.000000  \n",
       "75%         0.000000  \n",
       "max        16.000000  \n",
       "\n",
       "[11 rows x 40 columns]"
      ]
     },
     "execution_count": 8,
     "metadata": {},
     "output_type": "execute_result"
    }
   ],
   "source": [
    "data.describe(include=\"all\")"
   ]
  },
  {
   "cell_type": "markdown",
   "metadata": {},
   "source": [
    "### Summary Statistics of Categorical Variables"
   ]
  },
  {
   "cell_type": "code",
   "execution_count": 9,
   "metadata": {},
   "outputs": [
    {
     "data": {
      "text/html": [
       "<div>\n",
       "<style scoped>\n",
       "    .dataframe tbody tr th:only-of-type {\n",
       "        vertical-align: middle;\n",
       "    }\n",
       "\n",
       "    .dataframe tbody tr th {\n",
       "        vertical-align: top;\n",
       "    }\n",
       "\n",
       "    .dataframe thead th {\n",
       "        text-align: right;\n",
       "    }\n",
       "</style>\n",
       "<table border=\"1\" class=\"dataframe\">\n",
       "  <thead>\n",
       "    <tr style=\"text-align: right;\">\n",
       "      <th></th>\n",
       "      <th>gender</th>\n",
       "    </tr>\n",
       "  </thead>\n",
       "  <tbody>\n",
       "    <tr>\n",
       "      <th>count</th>\n",
       "      <td>27276</td>\n",
       "    </tr>\n",
       "    <tr>\n",
       "      <th>unique</th>\n",
       "      <td>2</td>\n",
       "    </tr>\n",
       "    <tr>\n",
       "      <th>top</th>\n",
       "      <td>F</td>\n",
       "    </tr>\n",
       "    <tr>\n",
       "      <th>freq</th>\n",
       "      <td>22054</td>\n",
       "    </tr>\n",
       "  </tbody>\n",
       "</table>\n",
       "</div>"
      ],
      "text/plain": [
       "       gender\n",
       "count   27276\n",
       "unique      2\n",
       "top         F\n",
       "freq    22054"
      ]
     },
     "execution_count": 9,
     "metadata": {},
     "output_type": "execute_result"
    }
   ],
   "source": [
    "data.describe(include='object')"
   ]
  },
  {
   "cell_type": "code",
   "execution_count": 10,
   "metadata": {},
   "outputs": [
    {
     "data": {
      "image/png": "[encoded data removed]",
      "text/plain": [
       "<Figure size 432x288 with 1 Axes>"
      ]
     },
     "metadata": {
      "needs_background": "light"
     },
     "output_type": "display_data"
    }
   ],
   "source": [
    "sns.countplot(x=\"gender\",data=data);plt.show()"
   ]
  },
  {
   "cell_type": "markdown",
   "metadata": {},
   "source": [
    "# Segregating all the numeric features in the dataset"
   ]
  },
  {
   "cell_type": "code",
   "execution_count": 11,
   "metadata": {},
   "outputs": [
    {
     "data": {
      "text/html": [
       "<div>\n",
       "<style scoped>\n",
       "    .dataframe tbody tr th:only-of-type {\n",
       "        vertical-align: middle;\n",
       "    }\n",
       "\n",
       "    .dataframe tbody tr th {\n",
       "        vertical-align: top;\n",
       "    }\n",
       "\n",
       "    .dataframe thead th {\n",
       "        text-align: right;\n",
       "    }\n",
       "</style>\n",
       "<table border=\"1\" class=\"dataframe\">\n",
       "  <thead>\n",
       "    <tr style=\"text-align: right;\">\n",
       "      <th></th>\n",
       "      <th>gradyear</th>\n",
       "      <th>age</th>\n",
       "      <th>friends</th>\n",
       "      <th>basketball</th>\n",
       "      <th>football</th>\n",
       "      <th>soccer</th>\n",
       "      <th>softball</th>\n",
       "      <th>volleyball</th>\n",
       "      <th>swimming</th>\n",
       "      <th>cheerleading</th>\n",
       "      <th>...</th>\n",
       "      <th>blonde</th>\n",
       "      <th>mall</th>\n",
       "      <th>shopping</th>\n",
       "      <th>clothes</th>\n",
       "      <th>hollister</th>\n",
       "      <th>abercrombie</th>\n",
       "      <th>die</th>\n",
       "      <th>death</th>\n",
       "      <th>drunk</th>\n",
       "      <th>drugs</th>\n",
       "    </tr>\n",
       "  </thead>\n",
       "  <tbody>\n",
       "    <tr>\n",
       "      <th>0</th>\n",
       "      <td>2006</td>\n",
       "      <td>18.982</td>\n",
       "      <td>7</td>\n",
       "      <td>0</td>\n",
       "      <td>0</td>\n",
       "      <td>0</td>\n",
       "      <td>0</td>\n",
       "      <td>0</td>\n",
       "      <td>0</td>\n",
       "      <td>0</td>\n",
       "      <td>...</td>\n",
       "      <td>0</td>\n",
       "      <td>0</td>\n",
       "      <td>0</td>\n",
       "      <td>0</td>\n",
       "      <td>0</td>\n",
       "      <td>0</td>\n",
       "      <td>0</td>\n",
       "      <td>0</td>\n",
       "      <td>0</td>\n",
       "      <td>0</td>\n",
       "    </tr>\n",
       "    <tr>\n",
       "      <th>1</th>\n",
       "      <td>2006</td>\n",
       "      <td>18.801</td>\n",
       "      <td>0</td>\n",
       "      <td>0</td>\n",
       "      <td>1</td>\n",
       "      <td>0</td>\n",
       "      <td>0</td>\n",
       "      <td>0</td>\n",
       "      <td>0</td>\n",
       "      <td>0</td>\n",
       "      <td>...</td>\n",
       "      <td>0</td>\n",
       "      <td>1</td>\n",
       "      <td>0</td>\n",
       "      <td>0</td>\n",
       "      <td>0</td>\n",
       "      <td>0</td>\n",
       "      <td>0</td>\n",
       "      <td>0</td>\n",
       "      <td>0</td>\n",
       "      <td>0</td>\n",
       "    </tr>\n",
       "    <tr>\n",
       "      <th>2</th>\n",
       "      <td>2006</td>\n",
       "      <td>18.335</td>\n",
       "      <td>69</td>\n",
       "      <td>0</td>\n",
       "      <td>1</td>\n",
       "      <td>0</td>\n",
       "      <td>0</td>\n",
       "      <td>0</td>\n",
       "      <td>0</td>\n",
       "      <td>0</td>\n",
       "      <td>...</td>\n",
       "      <td>0</td>\n",
       "      <td>0</td>\n",
       "      <td>0</td>\n",
       "      <td>0</td>\n",
       "      <td>0</td>\n",
       "      <td>0</td>\n",
       "      <td>0</td>\n",
       "      <td>1</td>\n",
       "      <td>0</td>\n",
       "      <td>0</td>\n",
       "    </tr>\n",
       "    <tr>\n",
       "      <th>3</th>\n",
       "      <td>2006</td>\n",
       "      <td>18.875</td>\n",
       "      <td>0</td>\n",
       "      <td>0</td>\n",
       "      <td>0</td>\n",
       "      <td>0</td>\n",
       "      <td>0</td>\n",
       "      <td>0</td>\n",
       "      <td>0</td>\n",
       "      <td>0</td>\n",
       "      <td>...</td>\n",
       "      <td>0</td>\n",
       "      <td>0</td>\n",
       "      <td>0</td>\n",
       "      <td>0</td>\n",
       "      <td>0</td>\n",
       "      <td>0</td>\n",
       "      <td>0</td>\n",
       "      <td>0</td>\n",
       "      <td>0</td>\n",
       "      <td>0</td>\n",
       "    </tr>\n",
       "    <tr>\n",
       "      <th>4</th>\n",
       "      <td>2006</td>\n",
       "      <td>18.995</td>\n",
       "      <td>10</td>\n",
       "      <td>0</td>\n",
       "      <td>0</td>\n",
       "      <td>0</td>\n",
       "      <td>0</td>\n",
       "      <td>0</td>\n",
       "      <td>0</td>\n",
       "      <td>0</td>\n",
       "      <td>...</td>\n",
       "      <td>0</td>\n",
       "      <td>0</td>\n",
       "      <td>2</td>\n",
       "      <td>0</td>\n",
       "      <td>0</td>\n",
       "      <td>0</td>\n",
       "      <td>0</td>\n",
       "      <td>0</td>\n",
       "      <td>1</td>\n",
       "      <td>1</td>\n",
       "    </tr>\n",
       "  </tbody>\n",
       "</table>\n",
       "<p>5 rows × 39 columns</p>\n",
       "</div>"
      ],
      "text/plain": [
       "   gradyear     age  friends  basketball  football  soccer  softball  \\\n",
       "0      2006  18.982        7           0         0       0         0   \n",
       "1      2006  18.801        0           0         1       0         0   \n",
       "2      2006  18.335       69           0         1       0         0   \n",
       "3      2006  18.875        0           0         0       0         0   \n",
       "4      2006  18.995       10           0         0       0         0   \n",
       "\n",
       "   volleyball  swimming  cheerleading  ...  blonde  mall  shopping  clothes  \\\n",
       "0           0         0             0  ...       0     0         0        0   \n",
       "1           0         0             0  ...       0     1         0        0   \n",
       "2           0         0             0  ...       0     0         0        0   \n",
       "3           0         0             0  ...       0     0         0        0   \n",
       "4           0         0             0  ...       0     0         2        0   \n",
       "\n",
       "   hollister  abercrombie  die  death  drunk  drugs  \n",
       "0          0            0    0      0      0      0  \n",
       "1          0            0    0      0      0      0  \n",
       "2          0            0    0      1      0      0  \n",
       "3          0            0    0      0      0      0  \n",
       "4          0            0    0      0      1      1  \n",
       "\n",
       "[5 rows x 39 columns]"
      ]
     },
     "execution_count": 11,
     "metadata": {},
     "output_type": "execute_result"
    }
   ],
   "source": [
    "data_numeric_features = data.select_dtypes(include=np.number)\n",
    "\n",
    "data_numeric_features.head()"
   ]
  },
  {
   "cell_type": "code",
   "execution_count": 12,
   "metadata": {},
   "outputs": [
    {
     "data": {
      "image/png": "[encoded data removed]",
      "text/plain": [
       "<Figure size 432x288 with 1 Axes>"
      ]
     },
     "metadata": {
      "needs_background": "light"
     },
     "output_type": "display_data"
    },
    {
     "data": {
      "image/png": "[encoded data removed]",
      "text/plain": [
       "<Figure size 432x288 with 1 Axes>"
      ]
     },
     "metadata": {
      "needs_background": "light"
     },
     "output_type": "display_data"
    },
    {
     "data": {
      "image/png": "[encoded data removed]",
      "text/plain": [
       "<Figure size 432x288 with 1 Axes>"
      ]
     },
     "metadata": {
      "needs_background": "light"
     },
     "output_type": "display_data"
    },
    {
     "data": {
      "image/png": "[encoded data removed]",
      "text/plain": [
       "<Figure size 432x288 with 1 Axes>"
      ]
     },
     "metadata": {
      "needs_background": "light"
     },
     "output_type": "display_data"
    },
    {
     "data": {
      "image/png": "[encoded data removed]",
      "text/plain": [
       "<Figure size 432x288 with 1 Axes>"
      ]
     },
     "metadata": {
      "needs_background": "light"
     },
     "output_type": "display_data"
    },
    {
     "data": {
      "image/png": "[encoded data removed]",
      "text/plain": [
       "<Figure size 432x288 with 1 Axes>"
      ]
     },
     "metadata": {
      "needs_background": "light"
     },
     "output_type": "display_data"
    },
    {
     "data": {
      "image/png": "[encoded data removed]",
      "text/plain": [
       "<Figure size 432x288 with 1 Axes>"
      ]
     },
     "metadata": {
      "needs_background": "light"
     },
     "output_type": "display_data"
    },
    {
     "data": {
      "image/png": "[encoded data removed]",
      "text/plain": [
       "<Figure size 432x288 with 1 Axes>"
      ]
     },
     "metadata": {
      "needs_background": "light"
     },
     "output_type": "display_data"
    },
    {
     "data": {
      "image/png": "[encoded data removed]",
      "text/plain": [
       "<Figure size 432x288 with 1 Axes>"
      ]
     },
     "metadata": {
      "needs_background": "light"
     },
     "output_type": "display_data"
    },
    {
     "data": {
      "image/png": "[encoded data removed]",
      "text/plain": [
       "<Figure size 432x288 with 1 Axes>"
      ]
     },
     "metadata": {
      "needs_background": "light"
     },
     "output_type": "display_data"
    },
    {
     "data": {
      "image/png": "[encoded data removed]",
      "text/plain": [
       "<Figure size 432x288 with 1 Axes>"
      ]
     },
     "metadata": {
      "needs_background": "light"
     },
     "output_type": "display_data"
    },
    {
     "data": {
      "image/png": "[encoded data removed]",
      "text/plain": [
       "<Figure size 432x288 with 1 Axes>"
      ]
     },
     "metadata": {
      "needs_background": "light"
     },
     "output_type": "display_data"
    },
    {
     "data": {
      "image/png": "[encoded data removed]",
      "text/plain": [
       "<Figure size 432x288 with 1 Axes>"
      ]
     },
     "metadata": {
      "needs_background": "light"
     },
     "output_type": "display_data"
    },
    {
     "data": {
      "image/png": "[encoded data removed]",
      "text/plain": [
       "<Figure size 432x288 with 1 Axes>"
      ]
     },
     "metadata": {
      "needs_background": "light"
     },
     "output_type": "display_data"
    },
    {
     "data": {
      "image/png": "[encoded data removed]",
      "text/plain": [
       "<Figure size 432x288 with 1 Axes>"
      ]
     },
     "metadata": {
      "needs_background": "light"
     },
     "output_type": "display_data"
    },
    {
     "data": {
      "image/png": "[encoded data removed]",
      "text/plain": [
       "<Figure size 432x288 with 1 Axes>"
      ]
     },
     "metadata": {
      "needs_background": "light"
     },
     "output_type": "display_data"
    },
    {
     "data": {
      "image/png": "[encoded data removed]",
      "text/plain": [
       "<Figure size 432x288 with 1 Axes>"
      ]
     },
     "metadata": {
      "needs_background": "light"
     },
     "output_type": "display_data"
    },
    {
     "data": {
      "image/png": "[encoded data removed]",
      "text/plain": [
       "<Figure size 432x288 with 1 Axes>"
      ]
     },
     "metadata": {
      "needs_background": "light"
     },
     "output_type": "display_data"
    },
    {
     "data": {
      "image/png": "[encoded data removed]",
      "text/plain": [
       "<Figure size 432x288 with 1 Axes>"
      ]
     },
     "metadata": {
      "needs_background": "light"
     },
     "output_type": "display_data"
    },
    {
     "data": {
      "image/png": "[encoded data removed]",
      "text/plain": [
       "<Figure size 432x288 with 1 Axes>"
      ]
     },
     "metadata": {
      "needs_background": "light"
     },
     "output_type": "display_data"
    },
    {
     "data": {
      "image/png": "[encoded data removed]",
      "text/plain": [
       "<Figure size 432x288 with 1 Axes>"
      ]
     },
     "metadata": {
      "needs_background": "light"
     },
     "output_type": "display_data"
    },
    {
     "data": {
      "image/png": "[encoded data removed]",
      "text/plain": [
       "<Figure size 432x288 with 1 Axes>"
      ]
     },
     "metadata": {
      "needs_background": "light"
     },
     "output_type": "display_data"
    },
    {
     "data": {
      "image/png": "[encoded data removed]",
      "text/plain": [
       "<Figure size 432x288 with 1 Axes>"
      ]
     },
     "metadata": {
      "needs_background": "light"
     },
     "output_type": "display_data"
    },
    {
     "data": {
      "image/png": "[encoded data removed]",
      "text/plain": [
       "<Figure size 432x288 with 1 Axes>"
      ]
     },
     "metadata": {
      "needs_background": "light"
     },
     "output_type": "display_data"
    },
    {
     "data": {
      "image/png": "[encoded data removed]",
      "text/plain": [
       "<Figure size 432x288 with 1 Axes>"
      ]
     },
     "metadata": {
      "needs_background": "light"
     },
     "output_type": "display_data"
    },
    {
     "data": {
      "image/png": "[encoded data removed]",
      "text/plain": [
       "<Figure size 432x288 with 1 Axes>"
      ]
     },
     "metadata": {
      "needs_background": "light"
     },
     "output_type": "display_data"
    },
    {
     "data": {
      "image/png": "[encoded data removed]",
      "text/plain": [
       "<Figure size 432x288 with 1 Axes>"
      ]
     },
     "metadata": {
      "needs_background": "light"
     },
     "output_type": "display_data"
    },
    {
     "data": {
      "image/png": "[encoded data removed]",
      "text/plain": [
       "<Figure size 432x288 with 1 Axes>"
      ]
     },
     "metadata": {
      "needs_background": "light"
     },
     "output_type": "display_data"
    },
    {
     "data": {
      "image/png": "[encoded data removed]",
      "text/plain": [
       "<Figure size 432x288 with 1 Axes>"
      ]
     },
     "metadata": {
      "needs_background": "light"
     },
     "output_type": "display_data"
    },
    {
     "data": {
      "image/png": "[encoded data removed]",
      "text/plain": [
       "<Figure size 432x288 with 1 Axes>"
      ]
     },
     "metadata": {
      "needs_background": "light"
     },
     "output_type": "display_data"
    },
    {
     "data": {
      "image/png": "[encoded data removed]",
      "text/plain": [
       "<Figure size 432x288 with 1 Axes>"
      ]
     },
     "metadata": {
      "needs_background": "light"
     },
     "output_type": "display_data"
    },
    {
     "data": {
      "image/png": "[encoded data removed]",
      "text/plain": [
       "<Figure size 432x288 with 1 Axes>"
      ]
     },
     "metadata": {
      "needs_background": "light"
     },
     "output_type": "display_data"
    },
    {
     "data": {
      "image/png": "[encoded data removed]",
      "text/plain": [
       "<Figure size 432x288 with 1 Axes>"
      ]
     },
     "metadata": {
      "needs_background": "light"
     },
     "output_type": "display_data"
    },
    {
     "data": {
      "image/png": "[encoded data removed]",
      "text/plain": [
       "<Figure size 432x288 with 1 Axes>"
      ]
     },
     "metadata": {
      "needs_background": "light"
     },
     "output_type": "display_data"
    },
    {
     "data": {
      "image/png": "[encoded data removed]",
      "text/plain": [
       "<Figure size 432x288 with 1 Axes>"
      ]
     },
     "metadata": {
      "needs_background": "light"
     },
     "output_type": "display_data"
    },
    {
     "data": {
      "image/png": "[encoded data removed]",
      "text/plain": [
       "<Figure size 432x288 with 1 Axes>"
      ]
     },
     "metadata": {
      "needs_background": "light"
     },
     "output_type": "display_data"
    },
    {
     "data": {
      "image/png": "[encoded data removed]",
      "text/plain": [
       "<Figure size 432x288 with 1 Axes>"
      ]
     },
     "metadata": {
      "needs_background": "light"
     },
     "output_type": "display_data"
    },
    {
     "data": {
      "image/png": "[encoded data removed]",
      "text/plain": [
       "<Figure size 432x288 with 1 Axes>"
      ]
     },
     "metadata": {
      "needs_background": "light"
     },
     "output_type": "display_data"
    },
    {
     "data": {
      "image/png": "[encoded data removed]",
      "text/plain": [
       "<Figure size 432x288 with 1 Axes>"
      ]
     },
     "metadata": {
      "needs_background": "light"
     },
     "output_type": "display_data"
    }
   ],
   "source": [
    "from matplotlib.pyplot import figure\n",
    "for i in data_numeric_features.columns:\n",
    "    figure()\n",
    "    sns.histplot(data_numeric_features[i])"
   ]
  },
  {
   "cell_type": "markdown",
   "metadata": {},
   "source": [
    "## Treating Missing Values"
   ]
  },
  {
   "cell_type": "code",
   "execution_count": 13,
   "metadata": {},
   "outputs": [
    {
     "data": {
      "image/png": "[encoded data removed]",
      "text/plain": [
       "<Figure size 432x288 with 1 Axes>"
      ]
     },
     "metadata": {
      "needs_background": "light"
     },
     "output_type": "display_data"
    }
   ],
   "source": [
    "#using heatmap to figure out missing data if any\n",
    "sns.heatmap(data.isnull(), yticklabels=False,cbar=False)\n",
    "\n",
    "plt.show()"
   ]
  },
  {
   "cell_type": "code",
   "execution_count": 14,
   "metadata": {},
   "outputs": [
    {
     "data": {
      "text/plain": [
       "gradyear           0\n",
       "gender          2724\n",
       "age             5086\n",
       "friends            0\n",
       "basketball         0\n",
       "football           0\n",
       "soccer             0\n",
       "softball           0\n",
       "volleyball         0\n",
       "swimming           0\n",
       "cheerleading       0\n",
       "baseball           0\n",
       "tennis             0\n",
       "sports             0\n",
       "cute               0\n",
       "sex                0\n",
       "sexy               0\n",
       "hot                0\n",
       "kissed             0\n",
       "dance              0\n",
       "band               0\n",
       "marching           0\n",
       "music              0\n",
       "rock               0\n",
       "god                0\n",
       "church             0\n",
       "jesus              0\n",
       "bible              0\n",
       "hair               0\n",
       "dress              0\n",
       "blonde             0\n",
       "mall               0\n",
       "shopping           0\n",
       "clothes            0\n",
       "hollister          0\n",
       "abercrombie        0\n",
       "die                0\n",
       "death              0\n",
       "drunk              0\n",
       "drugs              0\n",
       "dtype: int64"
      ]
     },
     "execution_count": 14,
     "metadata": {},
     "output_type": "execute_result"
    }
   ],
   "source": [
    "data.isnull().sum()"
   ]
  },
  {
   "cell_type": "markdown",
   "metadata": {},
   "source": [
    "A total of 5,086 records have missing ages. Also concerning is the fact that the minimum and maximum values seem to be unreasonable; it is unlikely that a 3 year old or a 106 year old is attending high school."
   ]
  },
  {
   "cell_type": "markdown",
   "metadata": {},
   "source": [
    "Let's have a look at the number of male and female candidates in our dataset"
   ]
  },
  {
   "cell_type": "markdown",
   "metadata": {},
   "source": [
    " Let's have a look at the number of male, female and missing values "
   ]
  },
  {
   "cell_type": "code",
   "execution_count": 15,
   "metadata": {},
   "outputs": [
    {
     "data": {
      "text/plain": [
       "F      22054\n",
       "M       5222\n",
       "NaN     2724\n",
       "Name: gender, dtype: int64"
      ]
     },
     "execution_count": 15,
     "metadata": {},
     "output_type": "execute_result"
    }
   ],
   "source": [
    "data['gender'].value_counts(dropna = False)"
   ]
  },
  {
   "cell_type": "markdown",
   "metadata": {},
   "source": [
    "There are 22054 female, 5222 male teen students and 2724 missing values"
   ]
  },
  {
   "cell_type": "markdown",
   "metadata": {},
   "source": [
    "Now we are going to fill all the null values in gender column with “No Gender”"
   ]
  },
  {
   "cell_type": "code",
   "execution_count": 16,
   "metadata": {},
   "outputs": [],
   "source": [
    "data['gender'].fillna('not disclosed', inplace = True)"
   ]
  },
  {
   "cell_type": "code",
   "execution_count": 17,
   "metadata": {},
   "outputs": [
    {
     "data": {
      "text/plain": [
       "0"
      ]
     },
     "execution_count": 17,
     "metadata": {},
     "output_type": "execute_result"
    }
   ],
   "source": [
    "data['gender'].isnull().sum()"
   ]
  },
  {
   "cell_type": "markdown",
   "metadata": {},
   "source": [
    "Also, the age cloumn has 5086 missing values. One way to deal with these missing values would be to fill the missing values with the average age of each graduation year"
   ]
  },
  {
   "cell_type": "markdown",
   "metadata": {},
   "source": [
    "From the above summary we can observe that the mean age differs by roughly one year per change in graduation year. This is not at all surprising, but a helpful finding for confirming our data is reasonable"
   ]
  },
  {
   "cell_type": "markdown",
   "metadata": {},
   "source": [
    "We now fill the missing values for each graduation year with the mean that we got as above"
   ]
  },
  {
   "cell_type": "code",
   "execution_count": 18,
   "metadata": {},
   "outputs": [],
   "source": [
    "data[\"age\"] = data.groupby('gradyear')['age'].transform(lambda x : x.fillna(x.mean()))"
   ]
  },
  {
   "cell_type": "code",
   "execution_count": 19,
   "metadata": {},
   "outputs": [
    {
     "data": {
      "text/plain": [
       "gradyear\n",
       "2006    19.137241\n",
       "2007    18.391459\n",
       "2008    17.523867\n",
       "2009    16.876025\n",
       "Name: age, dtype: float64"
      ]
     },
     "execution_count": 19,
     "metadata": {},
     "output_type": "execute_result"
    }
   ],
   "source": [
    "data.groupby('gradyear')['age'].mean()"
   ]
  },
  {
   "cell_type": "code",
   "execution_count": 20,
   "metadata": {},
   "outputs": [
    {
     "data": {
      "text/plain": [
       "0"
      ]
     },
     "execution_count": 20,
     "metadata": {},
     "output_type": "execute_result"
    }
   ],
   "source": [
    "data['age'].isnull().sum()"
   ]
  },
  {
   "cell_type": "markdown",
   "metadata": {},
   "source": [
    "We don't have any missing values in the 'age' column"
   ]
  },
  {
   "cell_type": "code",
   "execution_count": 21,
   "metadata": {},
   "outputs": [
    {
     "data": {
      "image/png": "[encoded data removed]",
      "text/plain": [
       "<Figure size 432x288 with 1 Axes>"
      ]
     },
     "metadata": {
      "needs_background": "light"
     },
     "output_type": "display_data"
    }
   ],
   "source": [
    "#using heatmap to figure out missing data if any\n",
    "sns.heatmap(data.isnull(), yticklabels=False,cbar=False)\n",
    "\n",
    "plt.show()"
   ]
  },
  {
   "cell_type": "code",
   "execution_count": 22,
   "metadata": {},
   "outputs": [
    {
     "data": {
      "text/plain": [
       "gradyear        0\n",
       "gender          0\n",
       "age             0\n",
       "friends         0\n",
       "basketball      0\n",
       "football        0\n",
       "soccer          0\n",
       "softball        0\n",
       "volleyball      0\n",
       "swimming        0\n",
       "cheerleading    0\n",
       "baseball        0\n",
       "tennis          0\n",
       "sports          0\n",
       "cute            0\n",
       "sex             0\n",
       "sexy            0\n",
       "hot             0\n",
       "kissed          0\n",
       "dance           0\n",
       "band            0\n",
       "marching        0\n",
       "music           0\n",
       "rock            0\n",
       "god             0\n",
       "church          0\n",
       "jesus           0\n",
       "bible           0\n",
       "hair            0\n",
       "dress           0\n",
       "blonde          0\n",
       "mall            0\n",
       "shopping        0\n",
       "clothes         0\n",
       "hollister       0\n",
       "abercrombie     0\n",
       "die             0\n",
       "death           0\n",
       "drunk           0\n",
       "drugs           0\n",
       "dtype: int64"
      ]
     },
     "execution_count": 22,
     "metadata": {},
     "output_type": "execute_result"
    }
   ],
   "source": [
    "data.isnull().sum()"
   ]
  },
  {
   "cell_type": "markdown",
   "metadata": {},
   "source": [
    "From the above summary we can see that there are no missing values in the dataset"
   ]
  },
  {
   "cell_type": "markdown",
   "metadata": {},
   "source": [
    "## Treating Outliers"
   ]
  },
  {
   "cell_type": "markdown",
   "metadata": {},
   "source": [
    "The original age range contains value from 3 - 106, which is unrealistic because student at age of 3 or 106 would not attend high school. A reasonable age range for people attending high school will be the age range between 13 to 21. The rest should be treated as outliers keeping the age of student going to high school in mind. Let's detect the outliers using a box plot below"
   ]
  },
  {
   "cell_type": "code",
   "execution_count": 23,
   "metadata": {},
   "outputs": [
    {
     "data": {
      "text/plain": [
       "<AxesSubplot:xlabel='age'>"
      ]
     },
     "execution_count": 23,
     "metadata": {},
     "output_type": "execute_result"
    },
    {
     "data": {
      "image/png": "[encoded data removed]",
      "text/plain": [
       "<Figure size 432x288 with 1 Axes>"
      ]
     },
     "metadata": {
      "needs_background": "light"
     },
     "output_type": "display_data"
    }
   ],
   "source": [
    "sns.boxplot(data['age'])"
   ]
  },
  {
   "cell_type": "code",
   "execution_count": 24,
   "metadata": {},
   "outputs": [],
   "source": [
    "q1 = data['age'].quantile(0.25)\n",
    "q3 = data['age'].quantile(0.75)\n",
    "iqr = q3-q1"
   ]
  },
  {
   "cell_type": "code",
   "execution_count": 25,
   "metadata": {},
   "outputs": [
    {
     "name": "stdout",
     "output_type": "stream",
     "text": [
      "1.887459224069687\n"
     ]
    }
   ],
   "source": [
    "print(iqr)"
   ]
  },
  {
   "cell_type": "code",
   "execution_count": 26,
   "metadata": {},
   "outputs": [],
   "source": [
    "#only including those observations which are falling within the two whisker lines\n",
    "\n",
    "df = data[(data['age'] > (q1 - 1.5*iqr)) & (data['age'] < (q3 + 1.5*iqr))]"
   ]
  },
  {
   "cell_type": "code",
   "execution_count": 27,
   "metadata": {},
   "outputs": [
    {
     "data": {
      "text/plain": [
       "count    29633.000000\n",
       "mean        17.377469\n",
       "std          1.147764\n",
       "min         13.719000\n",
       "25%         16.501000\n",
       "50%         17.426000\n",
       "75%         18.387000\n",
       "max         21.158000\n",
       "Name: age, dtype: float64"
      ]
     },
     "execution_count": 27,
     "metadata": {},
     "output_type": "execute_result"
    }
   ],
   "source": [
    "df['age'].describe()"
   ]
  },
  {
   "cell_type": "markdown",
   "metadata": {},
   "source": [
    "From the above summary we can observe that after treating the outliers the mininmum age is 13.719000 and the maximum age is 21.158000"
   ]
  },
  {
   "cell_type": "code",
   "execution_count": 28,
   "metadata": {},
   "outputs": [
    {
     "data": {
      "image/png": "[encoded data removed]",
      "text/plain": [
       "<Figure size 432x288 with 1 Axes>"
      ]
     },
     "metadata": {
      "needs_background": "light"
     },
     "output_type": "display_data"
    }
   ],
   "source": [
    "#Distribution of age across gender\n",
    "\n",
    "sns.boxplot(y=\"age\",x='gender',data=df,palette=[\"y\", \"m\",\"b\"])\n",
    "plt.show()"
   ]
  },
  {
   "cell_type": "code",
   "execution_count": 29,
   "metadata": {},
   "outputs": [
    {
     "data": {
      "text/plain": [
       "<AxesSubplot:xlabel='gender', ylabel='age'>"
      ]
     },
     "execution_count": 29,
     "metadata": {},
     "output_type": "execute_result"
    },
    {
     "data": {
      "image/png": "[encoded data removed]",
      "text/plain": [
       "<Figure size 432x288 with 1 Axes>"
      ]
     },
     "metadata": {
      "needs_background": "light"
     },
     "output_type": "display_data"
    }
   ],
   "source": [
    "sns.violinplot(x=\"gender\", y=\"age\", data=df)"
   ]
  },
  {
   "cell_type": "markdown",
   "metadata": {},
   "source": [
    "From the above boxplot we observe that there are no outliers in the age column"
   ]
  },
  {
   "cell_type": "markdown",
   "metadata": {},
   "source": [
    "## Data Preprocessing"
   ]
  },
  {
   "cell_type": "markdown",
   "metadata": {},
   "source": [
    "A common practice employed prior to any analysis using distance calculations is to normalize or z-score standardize the features so that each utilizes the same range. By doing so, you can avoid a problem in which some features come to dominate solely because they have a larger range of values than the others.\n",
    "<br>The process of z-score standardization rescales features so that they have a mean of zero and a standard deviation of one. This transformation changes the interpretation of the data in a way that may be useful here. Specifically, if someone mentions Swimming three times on their profile, without additional information, we have no idea whether this implies they like Swimming more or less than their peers. On the other hand, if the z-score is three, we know that that they mentioned Swimming many more times than the average teenager."
   ]
  },
  {
   "cell_type": "code",
   "execution_count": 30,
   "metadata": {},
   "outputs": [
    {
     "data": {
      "text/plain": [
       "Index(['basketball', 'football', 'soccer', 'softball', 'volleyball',\n",
       "       'swimming', 'cheerleading', 'baseball', 'tennis', 'sports', 'cute',\n",
       "       'sex', 'sexy', 'hot', 'kissed', 'dance', 'band', 'marching', 'music',\n",
       "       'rock', 'god', 'church', 'jesus', 'bible', 'hair', 'dress', 'blonde',\n",
       "       'mall', 'shopping', 'clothes', 'hollister', 'abercrombie', 'die',\n",
       "       'death', 'drunk', 'drugs'],\n",
       "      dtype='object')"
      ]
     },
     "execution_count": 30,
     "metadata": {},
     "output_type": "execute_result"
    }
   ],
   "source": [
    "names = df.columns[4:40]\n",
    "scaled_feature = df.copy()\n",
    "names"
   ]
  },
  {
   "cell_type": "code",
   "execution_count": 31,
   "metadata": {},
   "outputs": [
    {
     "data": {
      "text/html": [
       "<div>\n",
       "<style scoped>\n",
       "    .dataframe tbody tr th:only-of-type {\n",
       "        vertical-align: middle;\n",
       "    }\n",
       "\n",
       "    .dataframe tbody tr th {\n",
       "        vertical-align: top;\n",
       "    }\n",
       "\n",
       "    .dataframe thead th {\n",
       "        text-align: right;\n",
       "    }\n",
       "</style>\n",
       "<table border=\"1\" class=\"dataframe\">\n",
       "  <thead>\n",
       "    <tr style=\"text-align: right;\">\n",
       "      <th></th>\n",
       "      <th>basketball</th>\n",
       "      <th>football</th>\n",
       "      <th>soccer</th>\n",
       "      <th>softball</th>\n",
       "      <th>volleyball</th>\n",
       "      <th>swimming</th>\n",
       "      <th>cheerleading</th>\n",
       "      <th>baseball</th>\n",
       "      <th>tennis</th>\n",
       "      <th>sports</th>\n",
       "      <th>...</th>\n",
       "      <th>blonde</th>\n",
       "      <th>mall</th>\n",
       "      <th>shopping</th>\n",
       "      <th>clothes</th>\n",
       "      <th>hollister</th>\n",
       "      <th>abercrombie</th>\n",
       "      <th>die</th>\n",
       "      <th>death</th>\n",
       "      <th>drunk</th>\n",
       "      <th>drugs</th>\n",
       "    </tr>\n",
       "  </thead>\n",
       "  <tbody>\n",
       "    <tr>\n",
       "      <th>0</th>\n",
       "      <td>0</td>\n",
       "      <td>0</td>\n",
       "      <td>0</td>\n",
       "      <td>0</td>\n",
       "      <td>0</td>\n",
       "      <td>0</td>\n",
       "      <td>0</td>\n",
       "      <td>0</td>\n",
       "      <td>0</td>\n",
       "      <td>0</td>\n",
       "      <td>...</td>\n",
       "      <td>0</td>\n",
       "      <td>0</td>\n",
       "      <td>0</td>\n",
       "      <td>0</td>\n",
       "      <td>0</td>\n",
       "      <td>0</td>\n",
       "      <td>0</td>\n",
       "      <td>0</td>\n",
       "      <td>0</td>\n",
       "      <td>0</td>\n",
       "    </tr>\n",
       "    <tr>\n",
       "      <th>1</th>\n",
       "      <td>0</td>\n",
       "      <td>1</td>\n",
       "      <td>0</td>\n",
       "      <td>0</td>\n",
       "      <td>0</td>\n",
       "      <td>0</td>\n",
       "      <td>0</td>\n",
       "      <td>0</td>\n",
       "      <td>0</td>\n",
       "      <td>0</td>\n",
       "      <td>...</td>\n",
       "      <td>0</td>\n",
       "      <td>1</td>\n",
       "      <td>0</td>\n",
       "      <td>0</td>\n",
       "      <td>0</td>\n",
       "      <td>0</td>\n",
       "      <td>0</td>\n",
       "      <td>0</td>\n",
       "      <td>0</td>\n",
       "      <td>0</td>\n",
       "    </tr>\n",
       "    <tr>\n",
       "      <th>2</th>\n",
       "      <td>0</td>\n",
       "      <td>1</td>\n",
       "      <td>0</td>\n",
       "      <td>0</td>\n",
       "      <td>0</td>\n",
       "      <td>0</td>\n",
       "      <td>0</td>\n",
       "      <td>0</td>\n",
       "      <td>0</td>\n",
       "      <td>0</td>\n",
       "      <td>...</td>\n",
       "      <td>0</td>\n",
       "      <td>0</td>\n",
       "      <td>0</td>\n",
       "      <td>0</td>\n",
       "      <td>0</td>\n",
       "      <td>0</td>\n",
       "      <td>0</td>\n",
       "      <td>1</td>\n",
       "      <td>0</td>\n",
       "      <td>0</td>\n",
       "    </tr>\n",
       "    <tr>\n",
       "      <th>3</th>\n",
       "      <td>0</td>\n",
       "      <td>0</td>\n",
       "      <td>0</td>\n",
       "      <td>0</td>\n",
       "      <td>0</td>\n",
       "      <td>0</td>\n",
       "      <td>0</td>\n",
       "      <td>0</td>\n",
       "      <td>0</td>\n",
       "      <td>0</td>\n",
       "      <td>...</td>\n",
       "      <td>0</td>\n",
       "      <td>0</td>\n",
       "      <td>0</td>\n",
       "      <td>0</td>\n",
       "      <td>0</td>\n",
       "      <td>0</td>\n",
       "      <td>0</td>\n",
       "      <td>0</td>\n",
       "      <td>0</td>\n",
       "      <td>0</td>\n",
       "    </tr>\n",
       "    <tr>\n",
       "      <th>4</th>\n",
       "      <td>0</td>\n",
       "      <td>0</td>\n",
       "      <td>0</td>\n",
       "      <td>0</td>\n",
       "      <td>0</td>\n",
       "      <td>0</td>\n",
       "      <td>0</td>\n",
       "      <td>0</td>\n",
       "      <td>0</td>\n",
       "      <td>0</td>\n",
       "      <td>...</td>\n",
       "      <td>0</td>\n",
       "      <td>0</td>\n",
       "      <td>2</td>\n",
       "      <td>0</td>\n",
       "      <td>0</td>\n",
       "      <td>0</td>\n",
       "      <td>0</td>\n",
       "      <td>0</td>\n",
       "      <td>1</td>\n",
       "      <td>1</td>\n",
       "    </tr>\n",
       "    <tr>\n",
       "      <th>...</th>\n",
       "      <td>...</td>\n",
       "      <td>...</td>\n",
       "      <td>...</td>\n",
       "      <td>...</td>\n",
       "      <td>...</td>\n",
       "      <td>...</td>\n",
       "      <td>...</td>\n",
       "      <td>...</td>\n",
       "      <td>...</td>\n",
       "      <td>...</td>\n",
       "      <td>...</td>\n",
       "      <td>...</td>\n",
       "      <td>...</td>\n",
       "      <td>...</td>\n",
       "      <td>...</td>\n",
       "      <td>...</td>\n",
       "      <td>...</td>\n",
       "      <td>...</td>\n",
       "      <td>...</td>\n",
       "      <td>...</td>\n",
       "      <td>...</td>\n",
       "    </tr>\n",
       "    <tr>\n",
       "      <th>29995</th>\n",
       "      <td>0</td>\n",
       "      <td>0</td>\n",
       "      <td>0</td>\n",
       "      <td>0</td>\n",
       "      <td>0</td>\n",
       "      <td>0</td>\n",
       "      <td>0</td>\n",
       "      <td>0</td>\n",
       "      <td>0</td>\n",
       "      <td>0</td>\n",
       "      <td>...</td>\n",
       "      <td>0</td>\n",
       "      <td>0</td>\n",
       "      <td>0</td>\n",
       "      <td>0</td>\n",
       "      <td>0</td>\n",
       "      <td>0</td>\n",
       "      <td>0</td>\n",
       "      <td>0</td>\n",
       "      <td>0</td>\n",
       "      <td>0</td>\n",
       "    </tr>\n",
       "    <tr>\n",
       "      <th>29996</th>\n",
       "      <td>0</td>\n",
       "      <td>1</td>\n",
       "      <td>0</td>\n",
       "      <td>0</td>\n",
       "      <td>0</td>\n",
       "      <td>0</td>\n",
       "      <td>0</td>\n",
       "      <td>0</td>\n",
       "      <td>0</td>\n",
       "      <td>0</td>\n",
       "      <td>...</td>\n",
       "      <td>0</td>\n",
       "      <td>0</td>\n",
       "      <td>0</td>\n",
       "      <td>0</td>\n",
       "      <td>0</td>\n",
       "      <td>0</td>\n",
       "      <td>0</td>\n",
       "      <td>0</td>\n",
       "      <td>0</td>\n",
       "      <td>0</td>\n",
       "    </tr>\n",
       "    <tr>\n",
       "      <th>29997</th>\n",
       "      <td>0</td>\n",
       "      <td>1</td>\n",
       "      <td>0</td>\n",
       "      <td>0</td>\n",
       "      <td>0</td>\n",
       "      <td>0</td>\n",
       "      <td>0</td>\n",
       "      <td>1</td>\n",
       "      <td>0</td>\n",
       "      <td>0</td>\n",
       "      <td>...</td>\n",
       "      <td>0</td>\n",
       "      <td>0</td>\n",
       "      <td>0</td>\n",
       "      <td>0</td>\n",
       "      <td>0</td>\n",
       "      <td>0</td>\n",
       "      <td>0</td>\n",
       "      <td>0</td>\n",
       "      <td>0</td>\n",
       "      <td>0</td>\n",
       "    </tr>\n",
       "    <tr>\n",
       "      <th>29998</th>\n",
       "      <td>0</td>\n",
       "      <td>0</td>\n",
       "      <td>0</td>\n",
       "      <td>0</td>\n",
       "      <td>0</td>\n",
       "      <td>0</td>\n",
       "      <td>0</td>\n",
       "      <td>0</td>\n",
       "      <td>0</td>\n",
       "      <td>0</td>\n",
       "      <td>...</td>\n",
       "      <td>0</td>\n",
       "      <td>0</td>\n",
       "      <td>0</td>\n",
       "      <td>0</td>\n",
       "      <td>0</td>\n",
       "      <td>0</td>\n",
       "      <td>0</td>\n",
       "      <td>0</td>\n",
       "      <td>0</td>\n",
       "      <td>0</td>\n",
       "    </tr>\n",
       "    <tr>\n",
       "      <th>29999</th>\n",
       "      <td>2</td>\n",
       "      <td>0</td>\n",
       "      <td>0</td>\n",
       "      <td>1</td>\n",
       "      <td>0</td>\n",
       "      <td>0</td>\n",
       "      <td>0</td>\n",
       "      <td>0</td>\n",
       "      <td>0</td>\n",
       "      <td>0</td>\n",
       "      <td>...</td>\n",
       "      <td>0</td>\n",
       "      <td>0</td>\n",
       "      <td>0</td>\n",
       "      <td>0</td>\n",
       "      <td>0</td>\n",
       "      <td>0</td>\n",
       "      <td>0</td>\n",
       "      <td>0</td>\n",
       "      <td>0</td>\n",
       "      <td>0</td>\n",
       "    </tr>\n",
       "  </tbody>\n",
       "</table>\n",
       "<p>29633 rows × 36 columns</p>\n",
       "</div>"
      ],
      "text/plain": [
       "       basketball  football  soccer  softball  volleyball  swimming  \\\n",
       "0               0         0       0         0           0         0   \n",
       "1               0         1       0         0           0         0   \n",
       "2               0         1       0         0           0         0   \n",
       "3               0         0       0         0           0         0   \n",
       "4               0         0       0         0           0         0   \n",
       "...           ...       ...     ...       ...         ...       ...   \n",
       "29995           0         0       0         0           0         0   \n",
       "29996           0         1       0         0           0         0   \n",
       "29997           0         1       0         0           0         0   \n",
       "29998           0         0       0         0           0         0   \n",
       "29999           2         0       0         1           0         0   \n",
       "\n",
       "       cheerleading  baseball  tennis  sports  ...  blonde  mall  shopping  \\\n",
       "0                 0         0       0       0  ...       0     0         0   \n",
       "1                 0         0       0       0  ...       0     1         0   \n",
       "2                 0         0       0       0  ...       0     0         0   \n",
       "3                 0         0       0       0  ...       0     0         0   \n",
       "4                 0         0       0       0  ...       0     0         2   \n",
       "...             ...       ...     ...     ...  ...     ...   ...       ...   \n",
       "29995             0         0       0       0  ...       0     0         0   \n",
       "29996             0         0       0       0  ...       0     0         0   \n",
       "29997             0         1       0       0  ...       0     0         0   \n",
       "29998             0         0       0       0  ...       0     0         0   \n",
       "29999             0         0       0       0  ...       0     0         0   \n",
       "\n",
       "       clothes  hollister  abercrombie  die  death  drunk  drugs  \n",
       "0            0          0            0    0      0      0      0  \n",
       "1            0          0            0    0      0      0      0  \n",
       "2            0          0            0    0      1      0      0  \n",
       "3            0          0            0    0      0      0      0  \n",
       "4            0          0            0    0      0      1      1  \n",
       "...        ...        ...          ...  ...    ...    ...    ...  \n",
       "29995        0          0            0    0      0      0      0  \n",
       "29996        0          0            0    0      0      0      0  \n",
       "29997        0          0            0    0      0      0      0  \n",
       "29998        0          0            0    0      0      0      0  \n",
       "29999        0          0            0    0      0      0      0  \n",
       "\n",
       "[29633 rows x 36 columns]"
      ]
     },
     "execution_count": 31,
     "metadata": {},
     "output_type": "execute_result"
    }
   ],
   "source": [
    "features = scaled_feature[names];features"
   ]
  },
  {
   "cell_type": "markdown",
   "metadata": {},
   "source": [
    "\n",
    "# Standardize features by removing the mean and scaling to unit variance\n",
    "\n",
    "The standard score of a sample x is calculated as:\n",
    "\n",
    "z = (x - u) / s"
   ]
  },
  {
   "cell_type": "code",
   "execution_count": 32,
   "metadata": {},
   "outputs": [],
   "source": [
    "from sklearn.preprocessing import StandardScaler\n",
    "scaler = StandardScaler().fit(features.values)"
   ]
  },
  {
   "cell_type": "code",
   "execution_count": 33,
   "metadata": {},
   "outputs": [],
   "source": [
    "?scaler"
   ]
  },
  {
   "cell_type": "code",
   "execution_count": 34,
   "metadata": {},
   "outputs": [],
   "source": [
    "features = scaler.transform(features.values)"
   ]
  },
  {
   "cell_type": "code",
   "execution_count": 35,
   "metadata": {},
   "outputs": [
    {
     "data": {
      "text/html": [
       "<div>\n",
       "<style scoped>\n",
       "    .dataframe tbody tr th:only-of-type {\n",
       "        vertical-align: middle;\n",
       "    }\n",
       "\n",
       "    .dataframe tbody tr th {\n",
       "        vertical-align: top;\n",
       "    }\n",
       "\n",
       "    .dataframe thead th {\n",
       "        text-align: right;\n",
       "    }\n",
       "</style>\n",
       "<table border=\"1\" class=\"dataframe\">\n",
       "  <thead>\n",
       "    <tr style=\"text-align: right;\">\n",
       "      <th></th>\n",
       "      <th>gradyear</th>\n",
       "      <th>gender</th>\n",
       "      <th>age</th>\n",
       "      <th>friends</th>\n",
       "      <th>basketball</th>\n",
       "      <th>football</th>\n",
       "      <th>soccer</th>\n",
       "      <th>softball</th>\n",
       "      <th>volleyball</th>\n",
       "      <th>swimming</th>\n",
       "      <th>...</th>\n",
       "      <th>blonde</th>\n",
       "      <th>mall</th>\n",
       "      <th>shopping</th>\n",
       "      <th>clothes</th>\n",
       "      <th>hollister</th>\n",
       "      <th>abercrombie</th>\n",
       "      <th>die</th>\n",
       "      <th>death</th>\n",
       "      <th>drunk</th>\n",
       "      <th>drugs</th>\n",
       "    </tr>\n",
       "  </thead>\n",
       "  <tbody>\n",
       "    <tr>\n",
       "      <th>0</th>\n",
       "      <td>2006</td>\n",
       "      <td>M</td>\n",
       "      <td>18.982</td>\n",
       "      <td>7</td>\n",
       "      <td>-0.332682</td>\n",
       "      <td>-0.358976</td>\n",
       "      <td>-0.242549</td>\n",
       "      <td>-0.218636</td>\n",
       "      <td>-0.223895</td>\n",
       "      <td>-0.26001</td>\n",
       "      <td>...</td>\n",
       "      <td>-0.050749</td>\n",
       "      <td>-0.370420</td>\n",
       "      <td>-0.488475</td>\n",
       "      <td>-0.314753</td>\n",
       "      <td>-0.201558</td>\n",
       "      <td>-0.183345</td>\n",
       "      <td>-0.294188</td>\n",
       "      <td>-0.261723</td>\n",
       "      <td>-0.220556</td>\n",
       "      <td>-0.177494</td>\n",
       "    </tr>\n",
       "    <tr>\n",
       "      <th>1</th>\n",
       "      <td>2006</td>\n",
       "      <td>F</td>\n",
       "      <td>18.801</td>\n",
       "      <td>0</td>\n",
       "      <td>-0.332682</td>\n",
       "      <td>1.055779</td>\n",
       "      <td>-0.242549</td>\n",
       "      <td>-0.218636</td>\n",
       "      <td>-0.223895</td>\n",
       "      <td>-0.26001</td>\n",
       "      <td>...</td>\n",
       "      <td>-0.050749</td>\n",
       "      <td>1.063874</td>\n",
       "      <td>-0.488475</td>\n",
       "      <td>-0.314753</td>\n",
       "      <td>-0.201558</td>\n",
       "      <td>-0.183345</td>\n",
       "      <td>-0.294188</td>\n",
       "      <td>-0.261723</td>\n",
       "      <td>-0.220556</td>\n",
       "      <td>-0.177494</td>\n",
       "    </tr>\n",
       "    <tr>\n",
       "      <th>2</th>\n",
       "      <td>2006</td>\n",
       "      <td>M</td>\n",
       "      <td>18.335</td>\n",
       "      <td>69</td>\n",
       "      <td>-0.332682</td>\n",
       "      <td>1.055779</td>\n",
       "      <td>-0.242549</td>\n",
       "      <td>-0.218636</td>\n",
       "      <td>-0.223895</td>\n",
       "      <td>-0.26001</td>\n",
       "      <td>...</td>\n",
       "      <td>-0.050749</td>\n",
       "      <td>-0.370420</td>\n",
       "      <td>-0.488475</td>\n",
       "      <td>-0.314753</td>\n",
       "      <td>-0.201558</td>\n",
       "      <td>-0.183345</td>\n",
       "      <td>-0.294188</td>\n",
       "      <td>2.020691</td>\n",
       "      <td>-0.220556</td>\n",
       "      <td>-0.177494</td>\n",
       "    </tr>\n",
       "    <tr>\n",
       "      <th>3</th>\n",
       "      <td>2006</td>\n",
       "      <td>F</td>\n",
       "      <td>18.875</td>\n",
       "      <td>0</td>\n",
       "      <td>-0.332682</td>\n",
       "      <td>-0.358976</td>\n",
       "      <td>-0.242549</td>\n",
       "      <td>-0.218636</td>\n",
       "      <td>-0.223895</td>\n",
       "      <td>-0.26001</td>\n",
       "      <td>...</td>\n",
       "      <td>-0.050749</td>\n",
       "      <td>-0.370420</td>\n",
       "      <td>-0.488475</td>\n",
       "      <td>-0.314753</td>\n",
       "      <td>-0.201558</td>\n",
       "      <td>-0.183345</td>\n",
       "      <td>-0.294188</td>\n",
       "      <td>-0.261723</td>\n",
       "      <td>-0.220556</td>\n",
       "      <td>-0.177494</td>\n",
       "    </tr>\n",
       "    <tr>\n",
       "      <th>4</th>\n",
       "      <td>2006</td>\n",
       "      <td>not disclosed</td>\n",
       "      <td>18.995</td>\n",
       "      <td>10</td>\n",
       "      <td>-0.332682</td>\n",
       "      <td>-0.358976</td>\n",
       "      <td>-0.242549</td>\n",
       "      <td>-0.218636</td>\n",
       "      <td>-0.223895</td>\n",
       "      <td>-0.26001</td>\n",
       "      <td>...</td>\n",
       "      <td>-0.050749</td>\n",
       "      <td>-0.370420</td>\n",
       "      <td>2.264470</td>\n",
       "      <td>-0.314753</td>\n",
       "      <td>-0.201558</td>\n",
       "      <td>-0.183345</td>\n",
       "      <td>-0.294188</td>\n",
       "      <td>-0.261723</td>\n",
       "      <td>2.280682</td>\n",
       "      <td>2.782377</td>\n",
       "    </tr>\n",
       "  </tbody>\n",
       "</table>\n",
       "<p>5 rows × 40 columns</p>\n",
       "</div>"
      ],
      "text/plain": [
       "   gradyear         gender     age  friends  basketball  football    soccer  \\\n",
       "0      2006              M  18.982        7   -0.332682 -0.358976 -0.242549   \n",
       "1      2006              F  18.801        0   -0.332682  1.055779 -0.242549   \n",
       "2      2006              M  18.335       69   -0.332682  1.055779 -0.242549   \n",
       "3      2006              F  18.875        0   -0.332682 -0.358976 -0.242549   \n",
       "4      2006  not disclosed  18.995       10   -0.332682 -0.358976 -0.242549   \n",
       "\n",
       "   softball  volleyball  swimming  ...    blonde      mall  shopping  \\\n",
       "0 -0.218636   -0.223895  -0.26001  ... -0.050749 -0.370420 -0.488475   \n",
       "1 -0.218636   -0.223895  -0.26001  ... -0.050749  1.063874 -0.488475   \n",
       "2 -0.218636   -0.223895  -0.26001  ... -0.050749 -0.370420 -0.488475   \n",
       "3 -0.218636   -0.223895  -0.26001  ... -0.050749 -0.370420 -0.488475   \n",
       "4 -0.218636   -0.223895  -0.26001  ... -0.050749 -0.370420  2.264470   \n",
       "\n",
       "    clothes  hollister  abercrombie       die     death     drunk     drugs  \n",
       "0 -0.314753  -0.201558    -0.183345 -0.294188 -0.261723 -0.220556 -0.177494  \n",
       "1 -0.314753  -0.201558    -0.183345 -0.294188 -0.261723 -0.220556 -0.177494  \n",
       "2 -0.314753  -0.201558    -0.183345 -0.294188  2.020691 -0.220556 -0.177494  \n",
       "3 -0.314753  -0.201558    -0.183345 -0.294188 -0.261723 -0.220556 -0.177494  \n",
       "4 -0.314753  -0.201558    -0.183345 -0.294188 -0.261723  2.280682  2.782377  \n",
       "\n",
       "[5 rows x 40 columns]"
      ]
     },
     "execution_count": 35,
     "metadata": {},
     "output_type": "execute_result"
    }
   ],
   "source": [
    "scaled_feature[names] = features\n",
    "scaled_feature.head()"
   ]
  },
  {
   "cell_type": "code",
   "execution_count": 36,
   "metadata": {},
   "outputs": [
    {
     "data": {
      "text/html": [
       "<div>\n",
       "<style scoped>\n",
       "    .dataframe tbody tr th:only-of-type {\n",
       "        vertical-align: middle;\n",
       "    }\n",
       "\n",
       "    .dataframe tbody tr th {\n",
       "        vertical-align: top;\n",
       "    }\n",
       "\n",
       "    .dataframe thead th {\n",
       "        text-align: right;\n",
       "    }\n",
       "</style>\n",
       "<table border=\"1\" class=\"dataframe\">\n",
       "  <thead>\n",
       "    <tr style=\"text-align: right;\">\n",
       "      <th></th>\n",
       "      <th>gradyear</th>\n",
       "      <th>age</th>\n",
       "      <th>friends</th>\n",
       "      <th>basketball</th>\n",
       "      <th>football</th>\n",
       "      <th>soccer</th>\n",
       "      <th>softball</th>\n",
       "      <th>volleyball</th>\n",
       "      <th>swimming</th>\n",
       "      <th>cheerleading</th>\n",
       "      <th>...</th>\n",
       "      <th>blonde</th>\n",
       "      <th>mall</th>\n",
       "      <th>shopping</th>\n",
       "      <th>clothes</th>\n",
       "      <th>hollister</th>\n",
       "      <th>abercrombie</th>\n",
       "      <th>die</th>\n",
       "      <th>death</th>\n",
       "      <th>drunk</th>\n",
       "      <th>drugs</th>\n",
       "    </tr>\n",
       "  </thead>\n",
       "  <tbody>\n",
       "    <tr>\n",
       "      <th>count</th>\n",
       "      <td>29633.000000</td>\n",
       "      <td>29633.000000</td>\n",
       "      <td>29633.000000</td>\n",
       "      <td>2.963300e+04</td>\n",
       "      <td>2.963300e+04</td>\n",
       "      <td>2.963300e+04</td>\n",
       "      <td>2.963300e+04</td>\n",
       "      <td>2.963300e+04</td>\n",
       "      <td>2.963300e+04</td>\n",
       "      <td>2.963300e+04</td>\n",
       "      <td>...</td>\n",
       "      <td>2.963300e+04</td>\n",
       "      <td>2.963300e+04</td>\n",
       "      <td>2.963300e+04</td>\n",
       "      <td>2.963300e+04</td>\n",
       "      <td>2.963300e+04</td>\n",
       "      <td>2.963300e+04</td>\n",
       "      <td>2.963300e+04</td>\n",
       "      <td>2.963300e+04</td>\n",
       "      <td>2.963300e+04</td>\n",
       "      <td>2.963300e+04</td>\n",
       "    </tr>\n",
       "    <tr>\n",
       "      <th>mean</th>\n",
       "      <td>2007.498498</td>\n",
       "      <td>17.377469</td>\n",
       "      <td>30.239227</td>\n",
       "      <td>-2.741445e-16</td>\n",
       "      <td>-6.329242e-15</td>\n",
       "      <td>-1.676456e-14</td>\n",
       "      <td>2.178747e-15</td>\n",
       "      <td>1.222767e-14</td>\n",
       "      <td>-7.454908e-15</td>\n",
       "      <td>-8.127134e-15</td>\n",
       "      <td>...</td>\n",
       "      <td>3.510819e-15</td>\n",
       "      <td>-8.964939e-15</td>\n",
       "      <td>5.452265e-15</td>\n",
       "      <td>1.116571e-14</td>\n",
       "      <td>2.302592e-14</td>\n",
       "      <td>1.792352e-14</td>\n",
       "      <td>-3.693132e-15</td>\n",
       "      <td>9.311591e-16</td>\n",
       "      <td>-2.640508e-15</td>\n",
       "      <td>-1.139343e-15</td>\n",
       "    </tr>\n",
       "    <tr>\n",
       "      <th>std</th>\n",
       "      <td>1.117976</td>\n",
       "      <td>1.147764</td>\n",
       "      <td>36.586961</td>\n",
       "      <td>1.000017e+00</td>\n",
       "      <td>1.000017e+00</td>\n",
       "      <td>1.000017e+00</td>\n",
       "      <td>1.000017e+00</td>\n",
       "      <td>1.000017e+00</td>\n",
       "      <td>1.000017e+00</td>\n",
       "      <td>1.000017e+00</td>\n",
       "      <td>...</td>\n",
       "      <td>1.000017e+00</td>\n",
       "      <td>1.000017e+00</td>\n",
       "      <td>1.000017e+00</td>\n",
       "      <td>1.000017e+00</td>\n",
       "      <td>1.000017e+00</td>\n",
       "      <td>1.000017e+00</td>\n",
       "      <td>1.000017e+00</td>\n",
       "      <td>1.000017e+00</td>\n",
       "      <td>1.000017e+00</td>\n",
       "      <td>1.000017e+00</td>\n",
       "    </tr>\n",
       "    <tr>\n",
       "      <th>min</th>\n",
       "      <td>2006.000000</td>\n",
       "      <td>13.719000</td>\n",
       "      <td>0.000000</td>\n",
       "      <td>-3.326823e-01</td>\n",
       "      <td>-3.589764e-01</td>\n",
       "      <td>-2.425488e-01</td>\n",
       "      <td>-2.186365e-01</td>\n",
       "      <td>-2.238954e-01</td>\n",
       "      <td>-2.600100e-01</td>\n",
       "      <td>-2.080558e-01</td>\n",
       "      <td>...</td>\n",
       "      <td>-5.074945e-02</td>\n",
       "      <td>-3.704198e-01</td>\n",
       "      <td>-4.884751e-01</td>\n",
       "      <td>-3.147527e-01</td>\n",
       "      <td>-2.015579e-01</td>\n",
       "      <td>-1.833446e-01</td>\n",
       "      <td>-2.941882e-01</td>\n",
       "      <td>-2.617232e-01</td>\n",
       "      <td>-2.205559e-01</td>\n",
       "      <td>-1.774944e-01</td>\n",
       "    </tr>\n",
       "    <tr>\n",
       "      <th>25%</th>\n",
       "      <td>2006.000000</td>\n",
       "      <td>16.501000</td>\n",
       "      <td>3.000000</td>\n",
       "      <td>-3.326823e-01</td>\n",
       "      <td>-3.589764e-01</td>\n",
       "      <td>-2.425488e-01</td>\n",
       "      <td>-2.186365e-01</td>\n",
       "      <td>-2.238954e-01</td>\n",
       "      <td>-2.600100e-01</td>\n",
       "      <td>-2.080558e-01</td>\n",
       "      <td>...</td>\n",
       "      <td>-5.074945e-02</td>\n",
       "      <td>-3.704198e-01</td>\n",
       "      <td>-4.884751e-01</td>\n",
       "      <td>-3.147527e-01</td>\n",
       "      <td>-2.015579e-01</td>\n",
       "      <td>-1.833446e-01</td>\n",
       "      <td>-2.941882e-01</td>\n",
       "      <td>-2.617232e-01</td>\n",
       "      <td>-2.205559e-01</td>\n",
       "      <td>-1.774944e-01</td>\n",
       "    </tr>\n",
       "    <tr>\n",
       "      <th>50%</th>\n",
       "      <td>2007.000000</td>\n",
       "      <td>17.426000</td>\n",
       "      <td>20.000000</td>\n",
       "      <td>-3.326823e-01</td>\n",
       "      <td>-3.589764e-01</td>\n",
       "      <td>-2.425488e-01</td>\n",
       "      <td>-2.186365e-01</td>\n",
       "      <td>-2.238954e-01</td>\n",
       "      <td>-2.600100e-01</td>\n",
       "      <td>-2.080558e-01</td>\n",
       "      <td>...</td>\n",
       "      <td>-5.074945e-02</td>\n",
       "      <td>-3.704198e-01</td>\n",
       "      <td>-4.884751e-01</td>\n",
       "      <td>-3.147527e-01</td>\n",
       "      <td>-2.015579e-01</td>\n",
       "      <td>-1.833446e-01</td>\n",
       "      <td>-2.941882e-01</td>\n",
       "      <td>-2.617232e-01</td>\n",
       "      <td>-2.205559e-01</td>\n",
       "      <td>-1.774944e-01</td>\n",
       "    </tr>\n",
       "    <tr>\n",
       "      <th>75%</th>\n",
       "      <td>2008.000000</td>\n",
       "      <td>18.387000</td>\n",
       "      <td>44.000000</td>\n",
       "      <td>-3.326823e-01</td>\n",
       "      <td>-3.589764e-01</td>\n",
       "      <td>-2.425488e-01</td>\n",
       "      <td>-2.186365e-01</td>\n",
       "      <td>-2.238954e-01</td>\n",
       "      <td>-2.600100e-01</td>\n",
       "      <td>-2.080558e-01</td>\n",
       "      <td>...</td>\n",
       "      <td>-5.074945e-02</td>\n",
       "      <td>-3.704198e-01</td>\n",
       "      <td>8.879973e-01</td>\n",
       "      <td>-3.147527e-01</td>\n",
       "      <td>-2.015579e-01</td>\n",
       "      <td>-1.833446e-01</td>\n",
       "      <td>-2.941882e-01</td>\n",
       "      <td>-2.617232e-01</td>\n",
       "      <td>-2.205559e-01</td>\n",
       "      <td>-1.774944e-01</td>\n",
       "    </tr>\n",
       "    <tr>\n",
       "      <th>max</th>\n",
       "      <td>2009.000000</td>\n",
       "      <td>21.158000</td>\n",
       "      <td>830.000000</td>\n",
       "      <td>2.942471e+01</td>\n",
       "      <td>2.086236e+01</td>\n",
       "      <td>2.915619e+01</td>\n",
       "      <td>2.267484e+01</td>\n",
       "      <td>2.160588e+01</td>\n",
       "      <td>5.960244e+01</td>\n",
       "      <td>1.720263e+01</td>\n",
       "      <td>...</td>\n",
       "      <td>1.673290e+02</td>\n",
       "      <td>1.684110e+01</td>\n",
       "      <td>1.465272e+01</td>\n",
       "      <td>1.656682e+01</td>\n",
       "      <td>2.567946e+01</td>\n",
       "      <td>2.833660e+01</td>\n",
       "      <td>3.486419e+01</td>\n",
       "      <td>3.169208e+01</td>\n",
       "      <td>1.978935e+01</td>\n",
       "      <td>4.718045e+01</td>\n",
       "    </tr>\n",
       "  </tbody>\n",
       "</table>\n",
       "<p>8 rows × 39 columns</p>\n",
       "</div>"
      ],
      "text/plain": [
       "           gradyear           age       friends    basketball      football  \\\n",
       "count  29633.000000  29633.000000  29633.000000  2.963300e+04  2.963300e+04   \n",
       "mean    2007.498498     17.377469     30.239227 -2.741445e-16 -6.329242e-15   \n",
       "std        1.117976      1.147764     36.586961  1.000017e+00  1.000017e+00   \n",
       "min     2006.000000     13.719000      0.000000 -3.326823e-01 -3.589764e-01   \n",
       "25%     2006.000000     16.501000      3.000000 -3.326823e-01 -3.589764e-01   \n",
       "50%     2007.000000     17.426000     20.000000 -3.326823e-01 -3.589764e-01   \n",
       "75%     2008.000000     18.387000     44.000000 -3.326823e-01 -3.589764e-01   \n",
       "max     2009.000000     21.158000    830.000000  2.942471e+01  2.086236e+01   \n",
       "\n",
       "             soccer      softball    volleyball      swimming  cheerleading  \\\n",
       "count  2.963300e+04  2.963300e+04  2.963300e+04  2.963300e+04  2.963300e+04   \n",
       "mean  -1.676456e-14  2.178747e-15  1.222767e-14 -7.454908e-15 -8.127134e-15   \n",
       "std    1.000017e+00  1.000017e+00  1.000017e+00  1.000017e+00  1.000017e+00   \n",
       "min   -2.425488e-01 -2.186365e-01 -2.238954e-01 -2.600100e-01 -2.080558e-01   \n",
       "25%   -2.425488e-01 -2.186365e-01 -2.238954e-01 -2.600100e-01 -2.080558e-01   \n",
       "50%   -2.425488e-01 -2.186365e-01 -2.238954e-01 -2.600100e-01 -2.080558e-01   \n",
       "75%   -2.425488e-01 -2.186365e-01 -2.238954e-01 -2.600100e-01 -2.080558e-01   \n",
       "max    2.915619e+01  2.267484e+01  2.160588e+01  5.960244e+01  1.720263e+01   \n",
       "\n",
       "       ...        blonde          mall      shopping       clothes  \\\n",
       "count  ...  2.963300e+04  2.963300e+04  2.963300e+04  2.963300e+04   \n",
       "mean   ...  3.510819e-15 -8.964939e-15  5.452265e-15  1.116571e-14   \n",
       "std    ...  1.000017e+00  1.000017e+00  1.000017e+00  1.000017e+00   \n",
       "min    ... -5.074945e-02 -3.704198e-01 -4.884751e-01 -3.147527e-01   \n",
       "25%    ... -5.074945e-02 -3.704198e-01 -4.884751e-01 -3.147527e-01   \n",
       "50%    ... -5.074945e-02 -3.704198e-01 -4.884751e-01 -3.147527e-01   \n",
       "75%    ... -5.074945e-02 -3.704198e-01  8.879973e-01 -3.147527e-01   \n",
       "max    ...  1.673290e+02  1.684110e+01  1.465272e+01  1.656682e+01   \n",
       "\n",
       "          hollister   abercrombie           die         death         drunk  \\\n",
       "count  2.963300e+04  2.963300e+04  2.963300e+04  2.963300e+04  2.963300e+04   \n",
       "mean   2.302592e-14  1.792352e-14 -3.693132e-15  9.311591e-16 -2.640508e-15   \n",
       "std    1.000017e+00  1.000017e+00  1.000017e+00  1.000017e+00  1.000017e+00   \n",
       "min   -2.015579e-01 -1.833446e-01 -2.941882e-01 -2.617232e-01 -2.205559e-01   \n",
       "25%   -2.015579e-01 -1.833446e-01 -2.941882e-01 -2.617232e-01 -2.205559e-01   \n",
       "50%   -2.015579e-01 -1.833446e-01 -2.941882e-01 -2.617232e-01 -2.205559e-01   \n",
       "75%   -2.015579e-01 -1.833446e-01 -2.941882e-01 -2.617232e-01 -2.205559e-01   \n",
       "max    2.567946e+01  2.833660e+01  3.486419e+01  3.169208e+01  1.978935e+01   \n",
       "\n",
       "              drugs  \n",
       "count  2.963300e+04  \n",
       "mean  -1.139343e-15  \n",
       "std    1.000017e+00  \n",
       "min   -1.774944e-01  \n",
       "25%   -1.774944e-01  \n",
       "50%   -1.774944e-01  \n",
       "75%   -1.774944e-01  \n",
       "max    4.718045e+01  \n",
       "\n",
       "[8 rows x 39 columns]"
      ]
     },
     "execution_count": 36,
     "metadata": {},
     "output_type": "execute_result"
    }
   ],
   "source": [
    "scaled_feature.describe()"
   ]
  },
  {
   "cell_type": "markdown",
   "metadata": {},
   "source": [
    "## Convert object variable to numeric "
   ]
  },
  {
   "cell_type": "code",
   "execution_count": 37,
   "metadata": {},
   "outputs": [],
   "source": [
    "def gender_to_numeric(x):\n",
    "    if x=='M':\n",
    "        return 1\n",
    "    if x=='F':\n",
    "        return 2\n",
    "    if x=='not disclosed':\n",
    "        return 3"
   ]
  },
  {
   "cell_type": "code",
   "execution_count": 38,
   "metadata": {},
   "outputs": [
    {
     "data": {
      "text/plain": [
       "0    1\n",
       "1    2\n",
       "2    1\n",
       "3    2\n",
       "4    3\n",
       "Name: gender, dtype: int64"
      ]
     },
     "execution_count": 38,
     "metadata": {},
     "output_type": "execute_result"
    }
   ],
   "source": [
    "scaled_feature['gender'] = scaled_feature['gender'].apply(gender_to_numeric)\n",
    "scaled_feature['gender'].head()"
   ]
  },
  {
   "cell_type": "code",
   "execution_count": 39,
   "metadata": {},
   "outputs": [
    {
     "data": {
      "text/plain": [
       "0    1\n",
       "1    2\n",
       "2    1\n",
       "3    2\n",
       "4    3\n",
       "5    2\n",
       "6    2\n",
       "7    1\n",
       "8    2\n",
       "9    2\n",
       "Name: gender, dtype: int64"
      ]
     },
     "execution_count": 39,
     "metadata": {},
     "output_type": "execute_result"
    }
   ],
   "source": [
    "scaled_feature.gender[0:10]"
   ]
  },
  {
   "cell_type": "code",
   "execution_count": 40,
   "metadata": {},
   "outputs": [
    {
     "data": {
      "text/plain": [
       "Index(['gradyear', 'gender', 'age', 'friends', 'basketball', 'football',\n",
       "       'soccer', 'softball', 'volleyball', 'swimming', 'cheerleading',\n",
       "       'baseball', 'tennis', 'sports', 'cute', 'sex', 'sexy', 'hot', 'kissed',\n",
       "       'dance', 'band', 'marching', 'music', 'rock', 'god', 'church', 'jesus',\n",
       "       'bible', 'hair', 'dress', 'blonde', 'mall', 'shopping', 'clothes',\n",
       "       'hollister', 'abercrombie', 'die', 'death', 'drunk', 'drugs'],\n",
       "      dtype='object')"
      ]
     },
     "execution_count": 40,
     "metadata": {},
     "output_type": "execute_result"
    }
   ],
   "source": [
    "scaled_feature.columns"
   ]
  },
  {
   "cell_type": "markdown",
   "metadata": {},
   "source": [
    "### Checking the transformed values"
   ]
  },
  {
   "cell_type": "code",
   "execution_count": 41,
   "metadata": {},
   "outputs": [
    {
     "data": {
      "text/html": [
       "<div>\n",
       "<style scoped>\n",
       "    .dataframe tbody tr th:only-of-type {\n",
       "        vertical-align: middle;\n",
       "    }\n",
       "\n",
       "    .dataframe tbody tr th {\n",
       "        vertical-align: top;\n",
       "    }\n",
       "\n",
       "    .dataframe thead th {\n",
       "        text-align: right;\n",
       "    }\n",
       "</style>\n",
       "<table border=\"1\" class=\"dataframe\">\n",
       "  <thead>\n",
       "    <tr style=\"text-align: right;\">\n",
       "      <th></th>\n",
       "      <th>gradyear</th>\n",
       "      <th>gender</th>\n",
       "      <th>age</th>\n",
       "      <th>friends</th>\n",
       "      <th>basketball</th>\n",
       "      <th>football</th>\n",
       "      <th>soccer</th>\n",
       "      <th>softball</th>\n",
       "      <th>volleyball</th>\n",
       "      <th>swimming</th>\n",
       "      <th>...</th>\n",
       "      <th>blonde</th>\n",
       "      <th>mall</th>\n",
       "      <th>shopping</th>\n",
       "      <th>clothes</th>\n",
       "      <th>hollister</th>\n",
       "      <th>abercrombie</th>\n",
       "      <th>die</th>\n",
       "      <th>death</th>\n",
       "      <th>drunk</th>\n",
       "      <th>drugs</th>\n",
       "    </tr>\n",
       "  </thead>\n",
       "  <tbody>\n",
       "    <tr>\n",
       "      <th>0</th>\n",
       "      <td>2006</td>\n",
       "      <td>1</td>\n",
       "      <td>18.982</td>\n",
       "      <td>7</td>\n",
       "      <td>-0.332682</td>\n",
       "      <td>-0.358976</td>\n",
       "      <td>-0.242549</td>\n",
       "      <td>-0.218636</td>\n",
       "      <td>-0.223895</td>\n",
       "      <td>-0.26001</td>\n",
       "      <td>...</td>\n",
       "      <td>-0.050749</td>\n",
       "      <td>-0.370420</td>\n",
       "      <td>-0.488475</td>\n",
       "      <td>-0.314753</td>\n",
       "      <td>-0.201558</td>\n",
       "      <td>-0.183345</td>\n",
       "      <td>-0.294188</td>\n",
       "      <td>-0.261723</td>\n",
       "      <td>-0.220556</td>\n",
       "      <td>-0.177494</td>\n",
       "    </tr>\n",
       "    <tr>\n",
       "      <th>1</th>\n",
       "      <td>2006</td>\n",
       "      <td>2</td>\n",
       "      <td>18.801</td>\n",
       "      <td>0</td>\n",
       "      <td>-0.332682</td>\n",
       "      <td>1.055779</td>\n",
       "      <td>-0.242549</td>\n",
       "      <td>-0.218636</td>\n",
       "      <td>-0.223895</td>\n",
       "      <td>-0.26001</td>\n",
       "      <td>...</td>\n",
       "      <td>-0.050749</td>\n",
       "      <td>1.063874</td>\n",
       "      <td>-0.488475</td>\n",
       "      <td>-0.314753</td>\n",
       "      <td>-0.201558</td>\n",
       "      <td>-0.183345</td>\n",
       "      <td>-0.294188</td>\n",
       "      <td>-0.261723</td>\n",
       "      <td>-0.220556</td>\n",
       "      <td>-0.177494</td>\n",
       "    </tr>\n",
       "    <tr>\n",
       "      <th>2</th>\n",
       "      <td>2006</td>\n",
       "      <td>1</td>\n",
       "      <td>18.335</td>\n",
       "      <td>69</td>\n",
       "      <td>-0.332682</td>\n",
       "      <td>1.055779</td>\n",
       "      <td>-0.242549</td>\n",
       "      <td>-0.218636</td>\n",
       "      <td>-0.223895</td>\n",
       "      <td>-0.26001</td>\n",
       "      <td>...</td>\n",
       "      <td>-0.050749</td>\n",
       "      <td>-0.370420</td>\n",
       "      <td>-0.488475</td>\n",
       "      <td>-0.314753</td>\n",
       "      <td>-0.201558</td>\n",
       "      <td>-0.183345</td>\n",
       "      <td>-0.294188</td>\n",
       "      <td>2.020691</td>\n",
       "      <td>-0.220556</td>\n",
       "      <td>-0.177494</td>\n",
       "    </tr>\n",
       "    <tr>\n",
       "      <th>3</th>\n",
       "      <td>2006</td>\n",
       "      <td>2</td>\n",
       "      <td>18.875</td>\n",
       "      <td>0</td>\n",
       "      <td>-0.332682</td>\n",
       "      <td>-0.358976</td>\n",
       "      <td>-0.242549</td>\n",
       "      <td>-0.218636</td>\n",
       "      <td>-0.223895</td>\n",
       "      <td>-0.26001</td>\n",
       "      <td>...</td>\n",
       "      <td>-0.050749</td>\n",
       "      <td>-0.370420</td>\n",
       "      <td>-0.488475</td>\n",
       "      <td>-0.314753</td>\n",
       "      <td>-0.201558</td>\n",
       "      <td>-0.183345</td>\n",
       "      <td>-0.294188</td>\n",
       "      <td>-0.261723</td>\n",
       "      <td>-0.220556</td>\n",
       "      <td>-0.177494</td>\n",
       "    </tr>\n",
       "    <tr>\n",
       "      <th>4</th>\n",
       "      <td>2006</td>\n",
       "      <td>3</td>\n",
       "      <td>18.995</td>\n",
       "      <td>10</td>\n",
       "      <td>-0.332682</td>\n",
       "      <td>-0.358976</td>\n",
       "      <td>-0.242549</td>\n",
       "      <td>-0.218636</td>\n",
       "      <td>-0.223895</td>\n",
       "      <td>-0.26001</td>\n",
       "      <td>...</td>\n",
       "      <td>-0.050749</td>\n",
       "      <td>-0.370420</td>\n",
       "      <td>2.264470</td>\n",
       "      <td>-0.314753</td>\n",
       "      <td>-0.201558</td>\n",
       "      <td>-0.183345</td>\n",
       "      <td>-0.294188</td>\n",
       "      <td>-0.261723</td>\n",
       "      <td>2.280682</td>\n",
       "      <td>2.782377</td>\n",
       "    </tr>\n",
       "  </tbody>\n",
       "</table>\n",
       "<p>5 rows × 40 columns</p>\n",
       "</div>"
      ],
      "text/plain": [
       "   gradyear  gender     age  friends  basketball  football    soccer  \\\n",
       "0      2006       1  18.982        7   -0.332682 -0.358976 -0.242549   \n",
       "1      2006       2  18.801        0   -0.332682  1.055779 -0.242549   \n",
       "2      2006       1  18.335       69   -0.332682  1.055779 -0.242549   \n",
       "3      2006       2  18.875        0   -0.332682 -0.358976 -0.242549   \n",
       "4      2006       3  18.995       10   -0.332682 -0.358976 -0.242549   \n",
       "\n",
       "   softball  volleyball  swimming  ...    blonde      mall  shopping  \\\n",
       "0 -0.218636   -0.223895  -0.26001  ... -0.050749 -0.370420 -0.488475   \n",
       "1 -0.218636   -0.223895  -0.26001  ... -0.050749  1.063874 -0.488475   \n",
       "2 -0.218636   -0.223895  -0.26001  ... -0.050749 -0.370420 -0.488475   \n",
       "3 -0.218636   -0.223895  -0.26001  ... -0.050749 -0.370420 -0.488475   \n",
       "4 -0.218636   -0.223895  -0.26001  ... -0.050749 -0.370420  2.264470   \n",
       "\n",
       "    clothes  hollister  abercrombie       die     death     drunk     drugs  \n",
       "0 -0.314753  -0.201558    -0.183345 -0.294188 -0.261723 -0.220556 -0.177494  \n",
       "1 -0.314753  -0.201558    -0.183345 -0.294188 -0.261723 -0.220556 -0.177494  \n",
       "2 -0.314753  -0.201558    -0.183345 -0.294188  2.020691 -0.220556 -0.177494  \n",
       "3 -0.314753  -0.201558    -0.183345 -0.294188 -0.261723 -0.220556 -0.177494  \n",
       "4 -0.314753  -0.201558    -0.183345 -0.294188 -0.261723  2.280682  2.782377  \n",
       "\n",
       "[5 rows x 40 columns]"
      ]
     },
     "execution_count": 41,
     "metadata": {},
     "output_type": "execute_result"
    }
   ],
   "source": [
    "scaled_feature.head()"
   ]
  },
  {
   "cell_type": "markdown",
   "metadata": {},
   "source": [
    "## Building the K-means model"
   ]
  },
  {
   "cell_type": "code",
   "execution_count": 42,
   "metadata": {},
   "outputs": [],
   "source": [
    "from sklearn.cluster import KMeans\n",
    "kmeans = KMeans(n_clusters=7, random_state=0)"
   ]
  },
  {
   "cell_type": "code",
   "execution_count": 43,
   "metadata": {},
   "outputs": [],
   "source": [
    "?KMeans"
   ]
  },
  {
   "cell_type": "raw",
   "metadata": {},
   "source": [
    "\n",
    "inertia_ : float\n",
    "    Sum of squared distances of samples to their closest cluster center.\n",
    "\n",
    "\n",
    "n_clusters : int, default=8\n",
    "    The number of clusters to form as well as the number of\n",
    "    centroids to generate.\n",
    "\n",
    "init : {'k-means++', 'random', ndarray, callable}, default='k-means++'\n",
    "    Method for initialization:\n",
    "\n",
    "    'k-means++' : selects initial cluster centers for k-mean\n",
    "    clustering in a smart way to speed up convergence. See section\n",
    "    Notes in k_init for more details.\n",
    "\n",
    "    'random': choose `n_clusters` observations (rows) at random from data\n",
    "    for the initial centroids.\n",
    "\n",
    "    If an ndarray is passed, it should be of shape (n_clusters, n_features)\n",
    "    and gives the initial centers.\n",
    "\n",
    "    If a callable is passed, it should take arguments X, n_clusters and a\n",
    "    random state and return an initialization.\n",
    "\n",
    "n_init : int, default=10\n",
    "    Number of time the k-means algorithm will be run with different\n",
    "    centroid seeds. The final results will be the best output of\n",
    "    n_init consecutive runs in terms of inertia.\n",
    "\n",
    "max_iter : int, default=300\n",
    "    Maximum number of iterations of the k-means algorithm for a\n",
    "    single run.\n",
    "\n",
    "tol : float, default=1e-4\n",
    "    Relative tolerance with regards to Frobenius norm of the difference\n",
    "    in the cluster centers of two consecutive iterations to declare\n",
    "    convergence.\n",
    "\n",
    "precompute_distances : {'auto', True, False}, default='auto'\n",
    "    Precompute distances (faster but takes more memory).\n",
    "\n",
    "    'auto' : do not precompute distances if n_samples * n_clusters > 12\n",
    "    million. This corresponds to about 100MB overhead per job using\n",
    "    double precision.\n",
    "\n",
    "    True : always precompute distances.\n",
    "\n",
    "    False : never precompute distances.\n",
    "\n",
    "    .. deprecated:: 0.23\n",
    "        'precompute_distances' was deprecated in version 0.22 and will be\n",
    "        removed in 0.25. It has no effect.\n",
    "\n",
    "verbose : int, default=0\n",
    "    Verbosity mode.\n",
    "\n",
    "random_state : int, RandomState instance, default=None\n",
    "    Determines random number generation for centroid initialization. Use\n",
    "    an int to make the randomness deterministic.\n",
    "    See :term:`Glossary <random_state>`."
   ]
  },
  {
   "cell_type": "code",
   "execution_count": 44,
   "metadata": {},
   "outputs": [
    {
     "data": {
      "text/plain": [
       "KMeans(n_clusters=7, random_state=0)"
      ]
     },
     "execution_count": 44,
     "metadata": {},
     "output_type": "execute_result"
    }
   ],
   "source": [
    "model = kmeans.fit(scaled_feature)\n",
    "\n",
    "model"
   ]
  },
  {
   "cell_type": "markdown",
   "metadata": {},
   "source": [
    "## Elbow Method"
   ]
  },
  {
   "cell_type": "markdown",
   "metadata": {},
   "source": [
    "The within-cluster sum of squares is a measure of the variability of the observations within each cluster. In general, a cluster that has a small sum of squares is more compact than a cluster that has a large sum of squares. ... \n",
    "As the number of observations increases, the sum of squares becomes larger."
   ]
  },
  {
   "cell_type": "code",
   "execution_count": 45,
   "metadata": {},
   "outputs": [
    {
     "data": {
      "image/png": "[encoded data removed]",
      "text/plain": [
       "<Figure size 432x288 with 1 Axes>"
      ]
     },
     "metadata": {
      "needs_background": "light"
     },
     "output_type": "display_data"
    }
   ],
   "source": [
    "# Creating a funtion with KMeans to plot \"The Elbow Curve\"\n",
    "wcss = []\n",
    "for i in range(1,20):\n",
    "    kmeans = KMeans(n_clusters=i,init='k-means++',max_iter=300,random_state=0)\n",
    "    kmeans.fit(scaled_feature)\n",
    "    wcss.append(kmeans.inertia_)\n",
    "plt.plot(range(1,20),wcss)\n",
    "plt.title('The Elbow Curve')\n",
    "plt.xlabel('Number of clusters')\n",
    "plt.ylabel('WCSS') ##within-cluster sum of square\n",
    "plt.show()\n",
    "\n",
    "\n"
   ]
  },
  {
   "cell_type": "markdown",
   "metadata": {},
   "source": [
    "The location of a bend (knee) in the plot is generally considered as an indicator of the appropriate number of clusters. Our Elbow point is around cluster size of 5(beuween 2.5 and 5). We will use k=5 to further interpret our clustering result"
   ]
  },
  {
   "cell_type": "markdown",
   "metadata": {},
   "source": [
    "### Fit K-Means clustering for k=5"
   ]
  },
  {
   "cell_type": "code",
   "execution_count": 46,
   "metadata": {},
   "outputs": [
    {
     "data": {
      "text/plain": [
       "KMeans(n_clusters=4, random_state=0)"
      ]
     },
     "execution_count": 46,
     "metadata": {},
     "output_type": "execute_result"
    }
   ],
   "source": [
    "kmeans = KMeans(n_clusters=4,random_state=0)\n",
    "kmeans.fit(scaled_feature)"
   ]
  },
  {
   "cell_type": "markdown",
   "metadata": {},
   "source": [
    "As a result of clustering, we have the clustering label. Let's put these labels back into the original numeric data frame."
   ]
  },
  {
   "cell_type": "code",
   "execution_count": 47,
   "metadata": {},
   "outputs": [
    {
     "data": {
      "text/plain": [
       "29633"
      ]
     },
     "execution_count": 47,
     "metadata": {},
     "output_type": "execute_result"
    }
   ],
   "source": [
    "len(kmeans.labels_)"
   ]
  },
  {
   "cell_type": "code",
   "execution_count": 48,
   "metadata": {},
   "outputs": [],
   "source": [
    "df['cluster'] = kmeans.labels_"
   ]
  },
  {
   "cell_type": "code",
   "execution_count": 49,
   "metadata": {},
   "outputs": [
    {
     "data": {
      "text/html": [
       "<div>\n",
       "<style scoped>\n",
       "    .dataframe tbody tr th:only-of-type {\n",
       "        vertical-align: middle;\n",
       "    }\n",
       "\n",
       "    .dataframe tbody tr th {\n",
       "        vertical-align: top;\n",
       "    }\n",
       "\n",
       "    .dataframe thead th {\n",
       "        text-align: right;\n",
       "    }\n",
       "</style>\n",
       "<table border=\"1\" class=\"dataframe\">\n",
       "  <thead>\n",
       "    <tr style=\"text-align: right;\">\n",
       "      <th></th>\n",
       "      <th>gradyear</th>\n",
       "      <th>gender</th>\n",
       "      <th>age</th>\n",
       "      <th>friends</th>\n",
       "      <th>basketball</th>\n",
       "      <th>football</th>\n",
       "      <th>soccer</th>\n",
       "      <th>softball</th>\n",
       "      <th>volleyball</th>\n",
       "      <th>swimming</th>\n",
       "      <th>...</th>\n",
       "      <th>mall</th>\n",
       "      <th>shopping</th>\n",
       "      <th>clothes</th>\n",
       "      <th>hollister</th>\n",
       "      <th>abercrombie</th>\n",
       "      <th>die</th>\n",
       "      <th>death</th>\n",
       "      <th>drunk</th>\n",
       "      <th>drugs</th>\n",
       "      <th>cluster</th>\n",
       "    </tr>\n",
       "  </thead>\n",
       "  <tbody>\n",
       "    <tr>\n",
       "      <th>0</th>\n",
       "      <td>2006</td>\n",
       "      <td>M</td>\n",
       "      <td>18.982</td>\n",
       "      <td>7</td>\n",
       "      <td>0</td>\n",
       "      <td>0</td>\n",
       "      <td>0</td>\n",
       "      <td>0</td>\n",
       "      <td>0</td>\n",
       "      <td>0</td>\n",
       "      <td>...</td>\n",
       "      <td>0</td>\n",
       "      <td>0</td>\n",
       "      <td>0</td>\n",
       "      <td>0</td>\n",
       "      <td>0</td>\n",
       "      <td>0</td>\n",
       "      <td>0</td>\n",
       "      <td>0</td>\n",
       "      <td>0</td>\n",
       "      <td>0</td>\n",
       "    </tr>\n",
       "    <tr>\n",
       "      <th>1</th>\n",
       "      <td>2006</td>\n",
       "      <td>F</td>\n",
       "      <td>18.801</td>\n",
       "      <td>0</td>\n",
       "      <td>0</td>\n",
       "      <td>1</td>\n",
       "      <td>0</td>\n",
       "      <td>0</td>\n",
       "      <td>0</td>\n",
       "      <td>0</td>\n",
       "      <td>...</td>\n",
       "      <td>1</td>\n",
       "      <td>0</td>\n",
       "      <td>0</td>\n",
       "      <td>0</td>\n",
       "      <td>0</td>\n",
       "      <td>0</td>\n",
       "      <td>0</td>\n",
       "      <td>0</td>\n",
       "      <td>0</td>\n",
       "      <td>0</td>\n",
       "    </tr>\n",
       "    <tr>\n",
       "      <th>2</th>\n",
       "      <td>2006</td>\n",
       "      <td>M</td>\n",
       "      <td>18.335</td>\n",
       "      <td>69</td>\n",
       "      <td>0</td>\n",
       "      <td>1</td>\n",
       "      <td>0</td>\n",
       "      <td>0</td>\n",
       "      <td>0</td>\n",
       "      <td>0</td>\n",
       "      <td>...</td>\n",
       "      <td>0</td>\n",
       "      <td>0</td>\n",
       "      <td>0</td>\n",
       "      <td>0</td>\n",
       "      <td>0</td>\n",
       "      <td>0</td>\n",
       "      <td>1</td>\n",
       "      <td>0</td>\n",
       "      <td>0</td>\n",
       "      <td>1</td>\n",
       "    </tr>\n",
       "    <tr>\n",
       "      <th>3</th>\n",
       "      <td>2006</td>\n",
       "      <td>F</td>\n",
       "      <td>18.875</td>\n",
       "      <td>0</td>\n",
       "      <td>0</td>\n",
       "      <td>0</td>\n",
       "      <td>0</td>\n",
       "      <td>0</td>\n",
       "      <td>0</td>\n",
       "      <td>0</td>\n",
       "      <td>...</td>\n",
       "      <td>0</td>\n",
       "      <td>0</td>\n",
       "      <td>0</td>\n",
       "      <td>0</td>\n",
       "      <td>0</td>\n",
       "      <td>0</td>\n",
       "      <td>0</td>\n",
       "      <td>0</td>\n",
       "      <td>0</td>\n",
       "      <td>0</td>\n",
       "    </tr>\n",
       "    <tr>\n",
       "      <th>4</th>\n",
       "      <td>2006</td>\n",
       "      <td>not disclosed</td>\n",
       "      <td>18.995</td>\n",
       "      <td>10</td>\n",
       "      <td>0</td>\n",
       "      <td>0</td>\n",
       "      <td>0</td>\n",
       "      <td>0</td>\n",
       "      <td>0</td>\n",
       "      <td>0</td>\n",
       "      <td>...</td>\n",
       "      <td>0</td>\n",
       "      <td>2</td>\n",
       "      <td>0</td>\n",
       "      <td>0</td>\n",
       "      <td>0</td>\n",
       "      <td>0</td>\n",
       "      <td>0</td>\n",
       "      <td>1</td>\n",
       "      <td>1</td>\n",
       "      <td>0</td>\n",
       "    </tr>\n",
       "  </tbody>\n",
       "</table>\n",
       "<p>5 rows × 41 columns</p>\n",
       "</div>"
      ],
      "text/plain": [
       "   gradyear         gender     age  friends  basketball  football  soccer  \\\n",
       "0      2006              M  18.982        7           0         0       0   \n",
       "1      2006              F  18.801        0           0         1       0   \n",
       "2      2006              M  18.335       69           0         1       0   \n",
       "3      2006              F  18.875        0           0         0       0   \n",
       "4      2006  not disclosed  18.995       10           0         0       0   \n",
       "\n",
       "   softball  volleyball  swimming  ...  mall  shopping  clothes  hollister  \\\n",
       "0         0           0         0  ...     0         0        0          0   \n",
       "1         0           0         0  ...     1         0        0          0   \n",
       "2         0           0         0  ...     0         0        0          0   \n",
       "3         0           0         0  ...     0         0        0          0   \n",
       "4         0           0         0  ...     0         2        0          0   \n",
       "\n",
       "   abercrombie  die  death  drunk  drugs  cluster  \n",
       "0            0    0      0      0      0        0  \n",
       "1            0    0      0      0      0        0  \n",
       "2            0    0      1      0      0        1  \n",
       "3            0    0      0      0      0        0  \n",
       "4            0    0      0      1      1        0  \n",
       "\n",
       "[5 rows x 41 columns]"
      ]
     },
     "execution_count": 49,
     "metadata": {},
     "output_type": "execute_result"
    }
   ],
   "source": [
    "df.head()"
   ]
  },
  {
   "cell_type": "markdown",
   "metadata": {},
   "source": [
    "## Interpreting Clustering Results"
   ]
  },
  {
   "cell_type": "markdown",
   "metadata": {},
   "source": [
    "Let's see cluster sizes first"
   ]
  },
  {
   "cell_type": "code",
   "execution_count": 50,
   "metadata": {},
   "outputs": [
    {
     "data": {
      "image/png": "[encoded data removed]",
      "text/plain": [
       "<Figure size 864x504 with 1 Axes>"
      ]
     },
     "metadata": {
      "needs_background": "light"
     },
     "output_type": "display_data"
    }
   ],
   "source": [
    "plt.figure(figsize=(12,7))\n",
    "axis = sns.barplot(x=np.arange(0,4,1),y=df.groupby(['cluster']).count()['age'].values)\n",
    "x=axis.set_xlabel(\"Cluster Number\")\n",
    "x=axis.set_ylabel(\"Number of Students\")\n",
    "\n",
    "plt.savefig('Seven Clusters Barplot')"
   ]
  },
  {
   "cell_type": "markdown",
   "metadata": {},
   "source": [
    "From the above plot we can see that cluster 0 is the largest and cluster 1 has fewest teen students"
   ]
  },
  {
   "cell_type": "markdown",
   "metadata": {},
   "source": [
    "Let' see the number of students belonging to each cluster"
   ]
  },
  {
   "cell_type": "code",
   "execution_count": 51,
   "metadata": {},
   "outputs": [
    {
     "data": {
      "text/plain": [
       "[15885, 3783, 9384, 581]"
      ]
     },
     "execution_count": 51,
     "metadata": {},
     "output_type": "execute_result"
    }
   ],
   "source": [
    "size_array = list(df.groupby(['cluster']).count()['age'].values)\n",
    "size_array"
   ]
  },
  {
   "cell_type": "markdown",
   "metadata": {},
   "source": [
    "let's check the cluster statistics"
   ]
  },
  {
   "cell_type": "code",
   "execution_count": 52,
   "metadata": {
    "scrolled": false
   },
   "outputs": [
    {
     "data": {
      "text/html": [
       "<div>\n",
       "<style scoped>\n",
       "    .dataframe tbody tr th:only-of-type {\n",
       "        vertical-align: middle;\n",
       "    }\n",
       "\n",
       "    .dataframe tbody tr th {\n",
       "        vertical-align: top;\n",
       "    }\n",
       "\n",
       "    .dataframe thead th {\n",
       "        text-align: right;\n",
       "    }\n",
       "</style>\n",
       "<table border=\"1\" class=\"dataframe\">\n",
       "  <thead>\n",
       "    <tr style=\"text-align: right;\">\n",
       "      <th></th>\n",
       "      <th>basketball</th>\n",
       "      <th>football</th>\n",
       "      <th>soccer</th>\n",
       "      <th>softball</th>\n",
       "      <th>volleyball</th>\n",
       "      <th>swimming</th>\n",
       "      <th>cheerleading</th>\n",
       "      <th>baseball</th>\n",
       "      <th>tennis</th>\n",
       "      <th>sports</th>\n",
       "      <th>...</th>\n",
       "      <th>blonde</th>\n",
       "      <th>mall</th>\n",
       "      <th>shopping</th>\n",
       "      <th>clothes</th>\n",
       "      <th>hollister</th>\n",
       "      <th>abercrombie</th>\n",
       "      <th>die</th>\n",
       "      <th>death</th>\n",
       "      <th>drunk</th>\n",
       "      <th>drugs</th>\n",
       "    </tr>\n",
       "    <tr>\n",
       "      <th>cluster</th>\n",
       "      <th></th>\n",
       "      <th></th>\n",
       "      <th></th>\n",
       "      <th></th>\n",
       "      <th></th>\n",
       "      <th></th>\n",
       "      <th></th>\n",
       "      <th></th>\n",
       "      <th></th>\n",
       "      <th></th>\n",
       "      <th></th>\n",
       "      <th></th>\n",
       "      <th></th>\n",
       "      <th></th>\n",
       "      <th></th>\n",
       "      <th></th>\n",
       "      <th></th>\n",
       "      <th></th>\n",
       "      <th></th>\n",
       "      <th></th>\n",
       "      <th></th>\n",
       "    </tr>\n",
       "  </thead>\n",
       "  <tbody>\n",
       "    <tr>\n",
       "      <th>0</th>\n",
       "      <td>0.228077</td>\n",
       "      <td>0.233428</td>\n",
       "      <td>0.195027</td>\n",
       "      <td>0.122317</td>\n",
       "      <td>0.114196</td>\n",
       "      <td>0.118288</td>\n",
       "      <td>0.089518</td>\n",
       "      <td>0.093736</td>\n",
       "      <td>0.081649</td>\n",
       "      <td>0.129493</td>\n",
       "      <td>...</td>\n",
       "      <td>0.081523</td>\n",
       "      <td>0.222978</td>\n",
       "      <td>0.304123</td>\n",
       "      <td>0.137362</td>\n",
       "      <td>0.055146</td>\n",
       "      <td>0.040919</td>\n",
       "      <td>0.179792</td>\n",
       "      <td>0.103620</td>\n",
       "      <td>0.084923</td>\n",
       "      <td>0.063834</td>\n",
       "    </tr>\n",
       "    <tr>\n",
       "      <th>1</th>\n",
       "      <td>0.319059</td>\n",
       "      <td>0.279672</td>\n",
       "      <td>0.278351</td>\n",
       "      <td>0.241343</td>\n",
       "      <td>0.182924</td>\n",
       "      <td>0.154375</td>\n",
       "      <td>0.160455</td>\n",
       "      <td>0.135342</td>\n",
       "      <td>0.092784</td>\n",
       "      <td>0.147238</td>\n",
       "      <td>...</td>\n",
       "      <td>0.105472</td>\n",
       "      <td>0.338620</td>\n",
       "      <td>0.457838</td>\n",
       "      <td>0.164420</td>\n",
       "      <td>0.101507</td>\n",
       "      <td>0.074280</td>\n",
       "      <td>0.176844</td>\n",
       "      <td>0.124504</td>\n",
       "      <td>0.097542</td>\n",
       "      <td>0.049167</td>\n",
       "    </tr>\n",
       "    <tr>\n",
       "      <th>2</th>\n",
       "      <td>0.306053</td>\n",
       "      <td>0.274723</td>\n",
       "      <td>0.245098</td>\n",
       "      <td>0.194160</td>\n",
       "      <td>0.172528</td>\n",
       "      <td>0.152067</td>\n",
       "      <td>0.111253</td>\n",
       "      <td>0.112745</td>\n",
       "      <td>0.093137</td>\n",
       "      <td>0.155051</td>\n",
       "      <td>...</td>\n",
       "      <td>0.123934</td>\n",
       "      <td>0.275256</td>\n",
       "      <td>0.388427</td>\n",
       "      <td>0.160273</td>\n",
       "      <td>0.078325</td>\n",
       "      <td>0.056053</td>\n",
       "      <td>0.192455</td>\n",
       "      <td>0.127664</td>\n",
       "      <td>0.087489</td>\n",
       "      <td>0.057864</td>\n",
       "    </tr>\n",
       "    <tr>\n",
       "      <th>3</th>\n",
       "      <td>0.428571</td>\n",
       "      <td>0.301205</td>\n",
       "      <td>0.258176</td>\n",
       "      <td>0.228916</td>\n",
       "      <td>0.223752</td>\n",
       "      <td>0.172117</td>\n",
       "      <td>0.196213</td>\n",
       "      <td>0.117040</td>\n",
       "      <td>0.111876</td>\n",
       "      <td>0.135972</td>\n",
       "      <td>...</td>\n",
       "      <td>0.139415</td>\n",
       "      <td>0.425129</td>\n",
       "      <td>0.530120</td>\n",
       "      <td>0.192771</td>\n",
       "      <td>0.141136</td>\n",
       "      <td>0.115318</td>\n",
       "      <td>0.213425</td>\n",
       "      <td>0.142857</td>\n",
       "      <td>0.127367</td>\n",
       "      <td>0.058520</td>\n",
       "    </tr>\n",
       "  </tbody>\n",
       "</table>\n",
       "<p>4 rows × 36 columns</p>\n",
       "</div>"
      ],
      "text/plain": [
       "         basketball  football    soccer  softball  volleyball  swimming  \\\n",
       "cluster                                                                   \n",
       "0          0.228077  0.233428  0.195027  0.122317    0.114196  0.118288   \n",
       "1          0.319059  0.279672  0.278351  0.241343    0.182924  0.154375   \n",
       "2          0.306053  0.274723  0.245098  0.194160    0.172528  0.152067   \n",
       "3          0.428571  0.301205  0.258176  0.228916    0.223752  0.172117   \n",
       "\n",
       "         cheerleading  baseball    tennis    sports  ...    blonde      mall  \\\n",
       "cluster                                              ...                       \n",
       "0            0.089518  0.093736  0.081649  0.129493  ...  0.081523  0.222978   \n",
       "1            0.160455  0.135342  0.092784  0.147238  ...  0.105472  0.338620   \n",
       "2            0.111253  0.112745  0.093137  0.155051  ...  0.123934  0.275256   \n",
       "3            0.196213  0.117040  0.111876  0.135972  ...  0.139415  0.425129   \n",
       "\n",
       "         shopping   clothes  hollister  abercrombie       die     death  \\\n",
       "cluster                                                                   \n",
       "0        0.304123  0.137362   0.055146     0.040919  0.179792  0.103620   \n",
       "1        0.457838  0.164420   0.101507     0.074280  0.176844  0.124504   \n",
       "2        0.388427  0.160273   0.078325     0.056053  0.192455  0.127664   \n",
       "3        0.530120  0.192771   0.141136     0.115318  0.213425  0.142857   \n",
       "\n",
       "            drunk     drugs  \n",
       "cluster                      \n",
       "0        0.084923  0.063834  \n",
       "1        0.097542  0.049167  \n",
       "2        0.087489  0.057864  \n",
       "3        0.127367  0.058520  \n",
       "\n",
       "[4 rows x 36 columns]"
      ]
     },
     "execution_count": 52,
     "metadata": {},
     "output_type": "execute_result"
    }
   ],
   "source": [
    "df.groupby(['cluster']).mean()[['basketball', 'football','soccer', 'softball','volleyball','swimming','cheerleading','baseball','tennis','sports','cute','sex','sexy','hot','kissed','dance','band','marching','music','rock','god','church','jesus','bible','hair','dress','blonde','mall','shopping','clothes','hollister','abercrombie','die', 'death','drunk','drugs']]"
   ]
  },
  {
   "cell_type": "code",
   "execution_count": 53,
   "metadata": {},
   "outputs": [
    {
     "data": {
      "text/html": [
       "<div>\n",
       "<style scoped>\n",
       "    .dataframe tbody tr th:only-of-type {\n",
       "        vertical-align: middle;\n",
       "    }\n",
       "\n",
       "    .dataframe tbody tr th {\n",
       "        vertical-align: top;\n",
       "    }\n",
       "\n",
       "    .dataframe thead th {\n",
       "        text-align: right;\n",
       "    }\n",
       "</style>\n",
       "<table border=\"1\" class=\"dataframe\">\n",
       "  <thead>\n",
       "    <tr style=\"text-align: right;\">\n",
       "      <th></th>\n",
       "      <th>basketball</th>\n",
       "      <th>football</th>\n",
       "      <th>soccer</th>\n",
       "      <th>softball</th>\n",
       "      <th>volleyball</th>\n",
       "      <th>swimming</th>\n",
       "      <th>cheerleading</th>\n",
       "      <th>baseball</th>\n",
       "      <th>tennis</th>\n",
       "      <th>sports</th>\n",
       "      <th>...</th>\n",
       "      <th>blonde</th>\n",
       "      <th>mall</th>\n",
       "      <th>shopping</th>\n",
       "      <th>clothes</th>\n",
       "      <th>hollister</th>\n",
       "      <th>abercrombie</th>\n",
       "      <th>die</th>\n",
       "      <th>death</th>\n",
       "      <th>drunk</th>\n",
       "      <th>drugs</th>\n",
       "    </tr>\n",
       "    <tr>\n",
       "      <th>cluster</th>\n",
       "      <th></th>\n",
       "      <th></th>\n",
       "      <th></th>\n",
       "      <th></th>\n",
       "      <th></th>\n",
       "      <th></th>\n",
       "      <th></th>\n",
       "      <th></th>\n",
       "      <th></th>\n",
       "      <th></th>\n",
       "      <th></th>\n",
       "      <th></th>\n",
       "      <th></th>\n",
       "      <th></th>\n",
       "      <th></th>\n",
       "      <th></th>\n",
       "      <th></th>\n",
       "      <th></th>\n",
       "      <th></th>\n",
       "      <th></th>\n",
       "      <th></th>\n",
       "    </tr>\n",
       "  </thead>\n",
       "  <tbody>\n",
       "    <tr>\n",
       "      <th>0</th>\n",
       "      <td>False</td>\n",
       "      <td>False</td>\n",
       "      <td>False</td>\n",
       "      <td>False</td>\n",
       "      <td>False</td>\n",
       "      <td>False</td>\n",
       "      <td>False</td>\n",
       "      <td>False</td>\n",
       "      <td>False</td>\n",
       "      <td>False</td>\n",
       "      <td>...</td>\n",
       "      <td>False</td>\n",
       "      <td>False</td>\n",
       "      <td>True</td>\n",
       "      <td>False</td>\n",
       "      <td>False</td>\n",
       "      <td>False</td>\n",
       "      <td>False</td>\n",
       "      <td>False</td>\n",
       "      <td>False</td>\n",
       "      <td>False</td>\n",
       "    </tr>\n",
       "    <tr>\n",
       "      <th>1</th>\n",
       "      <td>True</td>\n",
       "      <td>True</td>\n",
       "      <td>True</td>\n",
       "      <td>False</td>\n",
       "      <td>False</td>\n",
       "      <td>False</td>\n",
       "      <td>False</td>\n",
       "      <td>False</td>\n",
       "      <td>False</td>\n",
       "      <td>False</td>\n",
       "      <td>...</td>\n",
       "      <td>False</td>\n",
       "      <td>True</td>\n",
       "      <td>True</td>\n",
       "      <td>False</td>\n",
       "      <td>False</td>\n",
       "      <td>False</td>\n",
       "      <td>False</td>\n",
       "      <td>False</td>\n",
       "      <td>False</td>\n",
       "      <td>False</td>\n",
       "    </tr>\n",
       "    <tr>\n",
       "      <th>2</th>\n",
       "      <td>True</td>\n",
       "      <td>True</td>\n",
       "      <td>False</td>\n",
       "      <td>False</td>\n",
       "      <td>False</td>\n",
       "      <td>False</td>\n",
       "      <td>False</td>\n",
       "      <td>False</td>\n",
       "      <td>False</td>\n",
       "      <td>False</td>\n",
       "      <td>...</td>\n",
       "      <td>False</td>\n",
       "      <td>True</td>\n",
       "      <td>True</td>\n",
       "      <td>False</td>\n",
       "      <td>False</td>\n",
       "      <td>False</td>\n",
       "      <td>False</td>\n",
       "      <td>False</td>\n",
       "      <td>False</td>\n",
       "      <td>False</td>\n",
       "    </tr>\n",
       "    <tr>\n",
       "      <th>3</th>\n",
       "      <td>True</td>\n",
       "      <td>True</td>\n",
       "      <td>True</td>\n",
       "      <td>False</td>\n",
       "      <td>False</td>\n",
       "      <td>False</td>\n",
       "      <td>False</td>\n",
       "      <td>False</td>\n",
       "      <td>False</td>\n",
       "      <td>False</td>\n",
       "      <td>...</td>\n",
       "      <td>False</td>\n",
       "      <td>True</td>\n",
       "      <td>True</td>\n",
       "      <td>False</td>\n",
       "      <td>False</td>\n",
       "      <td>False</td>\n",
       "      <td>False</td>\n",
       "      <td>False</td>\n",
       "      <td>False</td>\n",
       "      <td>False</td>\n",
       "    </tr>\n",
       "  </tbody>\n",
       "</table>\n",
       "<p>4 rows × 36 columns</p>\n",
       "</div>"
      ],
      "text/plain": [
       "         basketball  football  soccer  softball  volleyball  swimming  \\\n",
       "cluster                                                                 \n",
       "0             False     False   False     False       False     False   \n",
       "1              True      True    True     False       False     False   \n",
       "2              True      True   False     False       False     False   \n",
       "3              True      True    True     False       False     False   \n",
       "\n",
       "         cheerleading  baseball  tennis  sports  ...  blonde   mall  shopping  \\\n",
       "cluster                                          ...                            \n",
       "0               False     False   False   False  ...   False  False      True   \n",
       "1               False     False   False   False  ...   False   True      True   \n",
       "2               False     False   False   False  ...   False   True      True   \n",
       "3               False     False   False   False  ...   False   True      True   \n",
       "\n",
       "         clothes  hollister  abercrombie    die  death  drunk  drugs  \n",
       "cluster                                                               \n",
       "0          False      False        False  False  False  False  False  \n",
       "1          False      False        False  False  False  False  False  \n",
       "2          False      False        False  False  False  False  False  \n",
       "3          False      False        False  False  False  False  False  \n",
       "\n",
       "[4 rows x 36 columns]"
      ]
     },
     "execution_count": 53,
     "metadata": {},
     "output_type": "execute_result"
    }
   ],
   "source": [
    "df.groupby(['cluster']).mean()[['basketball', 'football','soccer', 'softball','volleyball','swimming','cheerleading','baseball','tennis','sports','cute','sex','sexy','hot','kissed','dance','band','marching','music','rock','god','church','jesus','bible','hair','dress','blonde','mall','shopping','clothes','hollister','abercrombie','die', 'death','drunk','drugs']]>.25"
   ]
  },
  {
   "cell_type": "markdown",
   "metadata": {},
   "source": [
    "The cluster center values shows each of the cluster centroids of the coordinates. The row referes to the five clusters,the numbers across each row indicates the cluster’s average value for the interest listed at the top of the column. Positive values are above the overall mean level."
   ]
  },
  {
   "cell_type": "code",
   "execution_count": 54,
   "metadata": {},
   "outputs": [
    {
     "data": {
      "text/html": [
       "<div>\n",
       "<style scoped>\n",
       "    .dataframe tbody tr th:only-of-type {\n",
       "        vertical-align: middle;\n",
       "    }\n",
       "\n",
       "    .dataframe tbody tr th {\n",
       "        vertical-align: top;\n",
       "    }\n",
       "\n",
       "    .dataframe thead th {\n",
       "        text-align: right;\n",
       "    }\n",
       "</style>\n",
       "<table border=\"1\" class=\"dataframe\">\n",
       "  <thead>\n",
       "    <tr style=\"text-align: right;\">\n",
       "      <th>cluster</th>\n",
       "      <th>0</th>\n",
       "      <th>1</th>\n",
       "      <th>2</th>\n",
       "      <th>3</th>\n",
       "    </tr>\n",
       "  </thead>\n",
       "  <tbody>\n",
       "    <tr>\n",
       "      <th>basketball</th>\n",
       "      <td>0.228077</td>\n",
       "      <td>0.319059</td>\n",
       "      <td>0.306053</td>\n",
       "      <td>0.428571</td>\n",
       "    </tr>\n",
       "    <tr>\n",
       "      <th>football</th>\n",
       "      <td>0.233428</td>\n",
       "      <td>0.279672</td>\n",
       "      <td>0.274723</td>\n",
       "      <td>0.301205</td>\n",
       "    </tr>\n",
       "    <tr>\n",
       "      <th>soccer</th>\n",
       "      <td>0.195027</td>\n",
       "      <td>0.278351</td>\n",
       "      <td>0.245098</td>\n",
       "      <td>0.258176</td>\n",
       "    </tr>\n",
       "    <tr>\n",
       "      <th>softball</th>\n",
       "      <td>0.122317</td>\n",
       "      <td>0.241343</td>\n",
       "      <td>0.194160</td>\n",
       "      <td>0.228916</td>\n",
       "    </tr>\n",
       "    <tr>\n",
       "      <th>volleyball</th>\n",
       "      <td>0.114196</td>\n",
       "      <td>0.182924</td>\n",
       "      <td>0.172528</td>\n",
       "      <td>0.223752</td>\n",
       "    </tr>\n",
       "    <tr>\n",
       "      <th>swimming</th>\n",
       "      <td>0.118288</td>\n",
       "      <td>0.154375</td>\n",
       "      <td>0.152067</td>\n",
       "      <td>0.172117</td>\n",
       "    </tr>\n",
       "    <tr>\n",
       "      <th>cheerleading</th>\n",
       "      <td>0.089518</td>\n",
       "      <td>0.160455</td>\n",
       "      <td>0.111253</td>\n",
       "      <td>0.196213</td>\n",
       "    </tr>\n",
       "    <tr>\n",
       "      <th>baseball</th>\n",
       "      <td>0.093736</td>\n",
       "      <td>0.135342</td>\n",
       "      <td>0.112745</td>\n",
       "      <td>0.117040</td>\n",
       "    </tr>\n",
       "    <tr>\n",
       "      <th>tennis</th>\n",
       "      <td>0.081649</td>\n",
       "      <td>0.092784</td>\n",
       "      <td>0.093137</td>\n",
       "      <td>0.111876</td>\n",
       "    </tr>\n",
       "    <tr>\n",
       "      <th>sports</th>\n",
       "      <td>0.129493</td>\n",
       "      <td>0.147238</td>\n",
       "      <td>0.155051</td>\n",
       "      <td>0.135972</td>\n",
       "    </tr>\n",
       "    <tr>\n",
       "      <th>cute</th>\n",
       "      <td>0.275606</td>\n",
       "      <td>0.406556</td>\n",
       "      <td>0.360188</td>\n",
       "      <td>0.537005</td>\n",
       "    </tr>\n",
       "    <tr>\n",
       "      <th>sex</th>\n",
       "      <td>0.209821</td>\n",
       "      <td>0.176051</td>\n",
       "      <td>0.221121</td>\n",
       "      <td>0.247849</td>\n",
       "    </tr>\n",
       "    <tr>\n",
       "      <th>sexy</th>\n",
       "      <td>0.130815</td>\n",
       "      <td>0.168121</td>\n",
       "      <td>0.144501</td>\n",
       "      <td>0.206540</td>\n",
       "    </tr>\n",
       "    <tr>\n",
       "      <th>hot</th>\n",
       "      <td>0.109474</td>\n",
       "      <td>0.157018</td>\n",
       "      <td>0.139280</td>\n",
       "      <td>0.208262</td>\n",
       "    </tr>\n",
       "    <tr>\n",
       "      <th>kissed</th>\n",
       "      <td>0.096569</td>\n",
       "      <td>0.106001</td>\n",
       "      <td>0.112852</td>\n",
       "      <td>0.137694</td>\n",
       "    </tr>\n",
       "    <tr>\n",
       "      <th>dance</th>\n",
       "      <td>0.372553</td>\n",
       "      <td>0.513878</td>\n",
       "      <td>0.471974</td>\n",
       "      <td>0.619621</td>\n",
       "    </tr>\n",
       "    <tr>\n",
       "      <th>band</th>\n",
       "      <td>0.276739</td>\n",
       "      <td>0.300291</td>\n",
       "      <td>0.338555</td>\n",
       "      <td>0.318417</td>\n",
       "    </tr>\n",
       "    <tr>\n",
       "      <th>marching</th>\n",
       "      <td>0.036009</td>\n",
       "      <td>0.041237</td>\n",
       "      <td>0.047954</td>\n",
       "      <td>0.051635</td>\n",
       "    </tr>\n",
       "    <tr>\n",
       "      <th>music</th>\n",
       "      <td>0.692855</td>\n",
       "      <td>0.750991</td>\n",
       "      <td>0.806479</td>\n",
       "      <td>0.833046</td>\n",
       "    </tr>\n",
       "    <tr>\n",
       "      <th>rock</th>\n",
       "      <td>0.224803</td>\n",
       "      <td>0.258525</td>\n",
       "      <td>0.267050</td>\n",
       "      <td>0.235800</td>\n",
       "    </tr>\n",
       "    <tr>\n",
       "      <th>god</th>\n",
       "      <td>0.413346</td>\n",
       "      <td>0.564631</td>\n",
       "      <td>0.501812</td>\n",
       "      <td>0.659208</td>\n",
       "    </tr>\n",
       "    <tr>\n",
       "      <th>church</th>\n",
       "      <td>0.206169</td>\n",
       "      <td>0.340735</td>\n",
       "      <td>0.274084</td>\n",
       "      <td>0.327022</td>\n",
       "    </tr>\n",
       "    <tr>\n",
       "      <th>jesus</th>\n",
       "      <td>0.093107</td>\n",
       "      <td>0.153317</td>\n",
       "      <td>0.125213</td>\n",
       "      <td>0.118761</td>\n",
       "    </tr>\n",
       "    <tr>\n",
       "      <th>bible</th>\n",
       "      <td>0.019138</td>\n",
       "      <td>0.028284</td>\n",
       "      <td>0.022805</td>\n",
       "      <td>0.015491</td>\n",
       "    </tr>\n",
       "    <tr>\n",
       "      <th>hair</th>\n",
       "      <td>0.399182</td>\n",
       "      <td>0.460217</td>\n",
       "      <td>0.440324</td>\n",
       "      <td>0.574871</td>\n",
       "    </tr>\n",
       "    <tr>\n",
       "      <th>dress</th>\n",
       "      <td>0.097136</td>\n",
       "      <td>0.130320</td>\n",
       "      <td>0.124574</td>\n",
       "      <td>0.185886</td>\n",
       "    </tr>\n",
       "    <tr>\n",
       "      <th>blonde</th>\n",
       "      <td>0.081523</td>\n",
       "      <td>0.105472</td>\n",
       "      <td>0.123934</td>\n",
       "      <td>0.139415</td>\n",
       "    </tr>\n",
       "    <tr>\n",
       "      <th>mall</th>\n",
       "      <td>0.222978</td>\n",
       "      <td>0.338620</td>\n",
       "      <td>0.275256</td>\n",
       "      <td>0.425129</td>\n",
       "    </tr>\n",
       "    <tr>\n",
       "      <th>shopping</th>\n",
       "      <td>0.304123</td>\n",
       "      <td>0.457838</td>\n",
       "      <td>0.388427</td>\n",
       "      <td>0.530120</td>\n",
       "    </tr>\n",
       "    <tr>\n",
       "      <th>clothes</th>\n",
       "      <td>0.137362</td>\n",
       "      <td>0.164420</td>\n",
       "      <td>0.160273</td>\n",
       "      <td>0.192771</td>\n",
       "    </tr>\n",
       "    <tr>\n",
       "      <th>hollister</th>\n",
       "      <td>0.055146</td>\n",
       "      <td>0.101507</td>\n",
       "      <td>0.078325</td>\n",
       "      <td>0.141136</td>\n",
       "    </tr>\n",
       "    <tr>\n",
       "      <th>abercrombie</th>\n",
       "      <td>0.040919</td>\n",
       "      <td>0.074280</td>\n",
       "      <td>0.056053</td>\n",
       "      <td>0.115318</td>\n",
       "    </tr>\n",
       "    <tr>\n",
       "      <th>die</th>\n",
       "      <td>0.179792</td>\n",
       "      <td>0.176844</td>\n",
       "      <td>0.192455</td>\n",
       "      <td>0.213425</td>\n",
       "    </tr>\n",
       "    <tr>\n",
       "      <th>death</th>\n",
       "      <td>0.103620</td>\n",
       "      <td>0.124504</td>\n",
       "      <td>0.127664</td>\n",
       "      <td>0.142857</td>\n",
       "    </tr>\n",
       "    <tr>\n",
       "      <th>drunk</th>\n",
       "      <td>0.084923</td>\n",
       "      <td>0.097542</td>\n",
       "      <td>0.087489</td>\n",
       "      <td>0.127367</td>\n",
       "    </tr>\n",
       "    <tr>\n",
       "      <th>drugs</th>\n",
       "      <td>0.063834</td>\n",
       "      <td>0.049167</td>\n",
       "      <td>0.057864</td>\n",
       "      <td>0.058520</td>\n",
       "    </tr>\n",
       "  </tbody>\n",
       "</table>\n",
       "</div>"
      ],
      "text/plain": [
       "cluster              0         1         2         3\n",
       "basketball    0.228077  0.319059  0.306053  0.428571\n",
       "football      0.233428  0.279672  0.274723  0.301205\n",
       "soccer        0.195027  0.278351  0.245098  0.258176\n",
       "softball      0.122317  0.241343  0.194160  0.228916\n",
       "volleyball    0.114196  0.182924  0.172528  0.223752\n",
       "swimming      0.118288  0.154375  0.152067  0.172117\n",
       "cheerleading  0.089518  0.160455  0.111253  0.196213\n",
       "baseball      0.093736  0.135342  0.112745  0.117040\n",
       "tennis        0.081649  0.092784  0.093137  0.111876\n",
       "sports        0.129493  0.147238  0.155051  0.135972\n",
       "cute          0.275606  0.406556  0.360188  0.537005\n",
       "sex           0.209821  0.176051  0.221121  0.247849\n",
       "sexy          0.130815  0.168121  0.144501  0.206540\n",
       "hot           0.109474  0.157018  0.139280  0.208262\n",
       "kissed        0.096569  0.106001  0.112852  0.137694\n",
       "dance         0.372553  0.513878  0.471974  0.619621\n",
       "band          0.276739  0.300291  0.338555  0.318417\n",
       "marching      0.036009  0.041237  0.047954  0.051635\n",
       "music         0.692855  0.750991  0.806479  0.833046\n",
       "rock          0.224803  0.258525  0.267050  0.235800\n",
       "god           0.413346  0.564631  0.501812  0.659208\n",
       "church        0.206169  0.340735  0.274084  0.327022\n",
       "jesus         0.093107  0.153317  0.125213  0.118761\n",
       "bible         0.019138  0.028284  0.022805  0.015491\n",
       "hair          0.399182  0.460217  0.440324  0.574871\n",
       "dress         0.097136  0.130320  0.124574  0.185886\n",
       "blonde        0.081523  0.105472  0.123934  0.139415\n",
       "mall          0.222978  0.338620  0.275256  0.425129\n",
       "shopping      0.304123  0.457838  0.388427  0.530120\n",
       "clothes       0.137362  0.164420  0.160273  0.192771\n",
       "hollister     0.055146  0.101507  0.078325  0.141136\n",
       "abercrombie   0.040919  0.074280  0.056053  0.115318\n",
       "die           0.179792  0.176844  0.192455  0.213425\n",
       "death         0.103620  0.124504  0.127664  0.142857\n",
       "drunk         0.084923  0.097542  0.087489  0.127367\n",
       "drugs         0.063834  0.049167  0.057864  0.058520"
      ]
     },
     "execution_count": 54,
     "metadata": {},
     "output_type": "execute_result"
    }
   ],
   "source": [
    "df.groupby(['cluster']).mean()[['basketball', 'football','soccer', 'softball','volleyball','swimming','cheerleading','baseball','tennis','sports','cute','sex','sexy','hot','kissed','dance','band','marching','music','rock','god','church','jesus','bible','hair','dress','blonde','mall','shopping','clothes','hollister','abercrombie','die', 'death','drunk','drugs']].T"
   ]
  },
  {
   "cell_type": "code",
   "execution_count": 55,
   "metadata": {},
   "outputs": [],
   "source": []
  },
  {
   "cell_type": "code",
   "execution_count": null,
   "metadata": {},
   "outputs": [],
   "source": []
  }
 ],
 "metadata": {
  "kernelspec": {
   "display_name": "Python 3 (ipykernel)",
   "language": "python",
   "name": "python3"
  },
  "language_info": {
   "codemirror_mode": {
    "name": "ipython",
    "version": 3
   },
   "file_extension": ".py",
   "mimetype": "text/x-python",
   "name": "python",
   "nbconvert_exporter": "python",
   "pygments_lexer": "ipython3",
   "version": "3.8.8"
  }
 },
 "nbformat": 4,
 "nbformat_minor": 2
}
